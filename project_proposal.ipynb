{
 "cells": [
  {
   "cell_type": "markdown",
   "id": "b1d8f580-c88a-4a47-ba0c-18625459baa3",
   "metadata": {},
   "source": [
    "# Project Proposal: Exploring Pulsar Star Data"
   ]
  },
  {
   "cell_type": "markdown",
   "id": "0345100a-ce60-414b-a8e1-6bac65dbf896",
   "metadata": {},
   "source": [
    "Introduction\n",
    "----"
   ]
  },
  {
   "cell_type": "markdown",
   "id": "2463f0e3-aae3-4439-b667-dfd881540f67",
   "metadata": {},
   "source": [
    "<b>Relevant Background<b>\n",
    "    \n",
    "Pulsar stars are a type of Neutron star that produces radio emission detectable on Earth. They are significant as they are used as probes of space-time, the interstellar medium, and states of matter (1).\n",
    "    \n",
    "\n",
    "This HTRU2 dataset, taken from (cite kaggle) will inform this project. It shows classifications of stars as either pulsar or non-pulsar stars (1). Light emitted by a pulsar contains information about the physics of neutron stars, which are the densest material in the universe. The precise blink or pulse of a pulsar star can indicate a possible event happening in space, as well. Cosmic distances can be calculated due to the regular periodicity of pulsar stars' light emission and they have been used to test parts of the theory of relativity (2).\n",
    " \n",
    "    \n",
    "    "
   ]
  },
  {
   "cell_type": "markdown",
   "id": "d1096b30-3c6e-4388-9df4-4b27a7ea5dd8",
   "metadata": {},
   "source": [
    "<b>Research Question<b>\n"
   ]
  },
  {
   "cell_type": "markdown",
   "id": "83b32ce2-5bb0-47ff-b532-0e4fd3dbb6a9",
   "metadata": {},
   "source": [
    "<b>About the Dataset<b>\n",
    "    \n",
    "This dataset uses the mean, standard deviation, excess kurtosis, and skewness of the stars’ integrated profiles and DM-SNR curves to classify whether or not a star can be identified as a pulsar. DM-SNR curves measure the radio waves released by pulsar stars once they reach Earth and have already traveled long distances in space surrounded by free electrons. Used to identify the pulsar as each profile is unique;however, pulse profiles vary slightly each period due to their signals being  non uniform and unstable. Averaged over many  thousands of rotations makes the profiles stable.Means that the distribution of event outcomes have many outliers leading to fat tails on the bell shaped distribution curve. The observations under the Class variable are binary, indicating that a star is a pulsar or non-pulsar. It is for this reason that the Class variable has been converted to a factor, as the observations are discrete. The rest of the variables are continuous values (1)."
   ]
  },
  {
   "cell_type": "markdown",
   "id": "737e7a94-ec4a-4b52-b67b-731e4b1e4aa3",
   "metadata": {},
   "source": [
    "Exploratory Data Analysis\n",
    "----"
   ]
  },
  {
   "cell_type": "code",
   "execution_count": 1,
   "id": "0ddcccb9-53d5-400c-881a-07eec5a2ebc0",
   "metadata": {},
   "outputs": [
    {
     "name": "stderr",
     "output_type": "stream",
     "text": [
      "── \u001b[1mAttaching packages\u001b[22m ─────────────────────────────────────── tidyverse 1.3.1 ──\n",
      "\n",
      "\u001b[32m✔\u001b[39m \u001b[34mggplot2\u001b[39m 3.3.6     \u001b[32m✔\u001b[39m \u001b[34mpurrr  \u001b[39m 0.3.4\n",
      "\u001b[32m✔\u001b[39m \u001b[34mtibble \u001b[39m 3.1.7     \u001b[32m✔\u001b[39m \u001b[34mdplyr  \u001b[39m 1.0.9\n",
      "\u001b[32m✔\u001b[39m \u001b[34mtidyr  \u001b[39m 1.2.0     \u001b[32m✔\u001b[39m \u001b[34mstringr\u001b[39m 1.4.0\n",
      "\u001b[32m✔\u001b[39m \u001b[34mreadr  \u001b[39m 2.1.2     \u001b[32m✔\u001b[39m \u001b[34mforcats\u001b[39m 0.5.1\n",
      "\n",
      "── \u001b[1mConflicts\u001b[22m ────────────────────────────────────────── tidyverse_conflicts() ──\n",
      "\u001b[31m✖\u001b[39m \u001b[34mdplyr\u001b[39m::\u001b[32mfilter()\u001b[39m masks \u001b[34mstats\u001b[39m::filter()\n",
      "\u001b[31m✖\u001b[39m \u001b[34mdplyr\u001b[39m::\u001b[32mlag()\u001b[39m    masks \u001b[34mstats\u001b[39m::lag()\n",
      "\n",
      "── \u001b[1mAttaching packages\u001b[22m ────────────────────────────────────── tidymodels 1.0.0 ──\n",
      "\n",
      "\u001b[32m✔\u001b[39m \u001b[34mbroom       \u001b[39m 1.0.0     \u001b[32m✔\u001b[39m \u001b[34mrsample     \u001b[39m 1.0.0\n",
      "\u001b[32m✔\u001b[39m \u001b[34mdials       \u001b[39m 1.0.0     \u001b[32m✔\u001b[39m \u001b[34mtune        \u001b[39m 1.0.0\n",
      "\u001b[32m✔\u001b[39m \u001b[34minfer       \u001b[39m 1.0.2     \u001b[32m✔\u001b[39m \u001b[34mworkflows   \u001b[39m 1.0.0\n",
      "\u001b[32m✔\u001b[39m \u001b[34mmodeldata   \u001b[39m 1.0.0     \u001b[32m✔\u001b[39m \u001b[34mworkflowsets\u001b[39m 1.0.0\n",
      "\u001b[32m✔\u001b[39m \u001b[34mparsnip     \u001b[39m 1.0.0     \u001b[32m✔\u001b[39m \u001b[34myardstick   \u001b[39m 1.0.0\n",
      "\u001b[32m✔\u001b[39m \u001b[34mrecipes     \u001b[39m 1.0.1     \n",
      "\n",
      "── \u001b[1mConflicts\u001b[22m ───────────────────────────────────────── tidymodels_conflicts() ──\n",
      "\u001b[31m✖\u001b[39m \u001b[34mscales\u001b[39m::\u001b[32mdiscard()\u001b[39m masks \u001b[34mpurrr\u001b[39m::discard()\n",
      "\u001b[31m✖\u001b[39m \u001b[34mdplyr\u001b[39m::\u001b[32mfilter()\u001b[39m   masks \u001b[34mstats\u001b[39m::filter()\n",
      "\u001b[31m✖\u001b[39m \u001b[34mrecipes\u001b[39m::\u001b[32mfixed()\u001b[39m  masks \u001b[34mstringr\u001b[39m::fixed()\n",
      "\u001b[31m✖\u001b[39m \u001b[34mdplyr\u001b[39m::\u001b[32mlag()\u001b[39m      masks \u001b[34mstats\u001b[39m::lag()\n",
      "\u001b[31m✖\u001b[39m \u001b[34myardstick\u001b[39m::\u001b[32mspec()\u001b[39m masks \u001b[34mreadr\u001b[39m::spec()\n",
      "\u001b[31m✖\u001b[39m \u001b[34mrecipes\u001b[39m::\u001b[32mstep()\u001b[39m   masks \u001b[34mstats\u001b[39m::step()\n",
      "\u001b[34m•\u001b[39m Use suppressPackageStartupMessages() to eliminate package startup messages\n",
      "\n"
     ]
    }
   ],
   "source": [
    "#1. Download libraries\n",
    "\n",
    "library(tidyverse)\n",
    "library(repr)\n",
    "library(tidymodels)\n",
    "set.seed(1)"
   ]
  },
  {
   "cell_type": "code",
   "execution_count": 2,
   "id": "598fae04-f02a-445b-9c34-71b3fa88a3c6",
   "metadata": {},
   "outputs": [
    {
     "name": "stderr",
     "output_type": "stream",
     "text": [
      "\u001b[1mRows: \u001b[22m\u001b[34m17898\u001b[39m \u001b[1mColumns: \u001b[22m\u001b[34m9\u001b[39m\n",
      "\u001b[36m──\u001b[39m \u001b[1mColumn specification\u001b[22m \u001b[36m────────────────────────────────────────────────────────\u001b[39m\n",
      "\u001b[1mDelimiter:\u001b[22m \",\"\n",
      "\u001b[32mdbl\u001b[39m (9): X1, X2, X3, X4, X5, X6, X7, X8, X9\n",
      "\n",
      "\u001b[36mℹ\u001b[39m Use `spec()` to retrieve the full column specification for this data.\n",
      "\u001b[36mℹ\u001b[39m Specify the column types or set `show_col_types = FALSE` to quiet this message.\n"
     ]
    }
   ],
   "source": [
    "#2.Read in data Pulsar Star Data\n",
    "\n",
    "pulsar_star_data<-read_csv(\"https://raw.githubusercontent.com/madisongill/dsci-100-2023s-group-39-section-002/main/HTRU_2.csv\",col_names=FALSE)"
   ]
  },
  {
   "cell_type": "code",
   "execution_count": 3,
   "id": "8b27aed7-75db-4fe7-9483-d6d6c4f5cd36",
   "metadata": {},
   "outputs": [],
   "source": [
    "#3. Tidy data (add column names,condense if needed,\n",
    "\n",
    "pulsar <- pulsar_star_data|>\n",
    "rename(mean=X1,\n",
    "       std_dev=X2,\n",
    "       kurt=X3,\n",
    "       skew=X4,\n",
    "       mean_dmsnr=X5,\n",
    "       std_dev_dmsnr=X6,\n",
    "       kurt_dmsnr=X7,\n",
    "       skew_dmsnr=X8,\n",
    "       class=X9) |>\n",
    "mutate(class = as_factor(class))\n",
    "       "
   ]
  },
  {
   "cell_type": "code",
   "execution_count": 4,
   "id": "6b71a0ff-a866-400d-aa55-beaa7a4df086",
   "metadata": {},
   "outputs": [
    {
     "data": {
      "text/html": [
       "<table class=\"dataframe\">\n",
       "<caption>A tibble: 6 × 9</caption>\n",
       "<thead>\n",
       "\t<tr><th scope=col>mean</th><th scope=col>std_dev</th><th scope=col>kurt</th><th scope=col>skew</th><th scope=col>mean_dmsnr</th><th scope=col>std_dev_dmsnr</th><th scope=col>kurt_dmsnr</th><th scope=col>skew_dmsnr</th><th scope=col>class</th></tr>\n",
       "\t<tr><th scope=col>&lt;dbl&gt;</th><th scope=col>&lt;dbl&gt;</th><th scope=col>&lt;dbl&gt;</th><th scope=col>&lt;dbl&gt;</th><th scope=col>&lt;dbl&gt;</th><th scope=col>&lt;dbl&gt;</th><th scope=col>&lt;dbl&gt;</th><th scope=col>&lt;dbl&gt;</th><th scope=col>&lt;fct&gt;</th></tr>\n",
       "</thead>\n",
       "<tbody>\n",
       "\t<tr><td>102.50781</td><td>58.88243</td><td> 0.46531815</td><td>-0.5150879</td><td>1.6772575</td><td>14.860146</td><td>10.576487</td><td>127.39358</td><td>0</td></tr>\n",
       "\t<tr><td>103.01562</td><td>39.34165</td><td> 0.32332837</td><td> 1.0511644</td><td>3.1212375</td><td>21.744669</td><td> 7.735822</td><td> 63.17191</td><td>0</td></tr>\n",
       "\t<tr><td>136.75000</td><td>57.17845</td><td>-0.06841464</td><td>-0.6362384</td><td>3.6429766</td><td>20.959280</td><td> 6.896499</td><td> 53.59366</td><td>0</td></tr>\n",
       "\t<tr><td> 93.57031</td><td>46.69811</td><td> 0.53190485</td><td> 0.4167211</td><td>1.6362876</td><td>14.545074</td><td>10.621748</td><td>131.39400</td><td>0</td></tr>\n",
       "\t<tr><td>119.48438</td><td>48.76506</td><td> 0.03146022</td><td>-0.1121676</td><td>0.9991639</td><td> 9.279612</td><td>19.206230</td><td>479.75657</td><td>0</td></tr>\n",
       "\t<tr><td>130.38281</td><td>39.84406</td><td>-0.15832276</td><td> 0.3895404</td><td>1.2207358</td><td>14.378941</td><td>13.539456</td><td>198.23646</td><td>0</td></tr>\n",
       "</tbody>\n",
       "</table>\n"
      ],
      "text/latex": [
       "A tibble: 6 × 9\n",
       "\\begin{tabular}{lllllllll}\n",
       " mean & std\\_dev & kurt & skew & mean\\_dmsnr & std\\_dev\\_dmsnr & kurt\\_dmsnr & skew\\_dmsnr & class\\\\\n",
       " <dbl> & <dbl> & <dbl> & <dbl> & <dbl> & <dbl> & <dbl> & <dbl> & <fct>\\\\\n",
       "\\hline\n",
       "\t 102.50781 & 58.88243 &  0.46531815 & -0.5150879 & 1.6772575 & 14.860146 & 10.576487 & 127.39358 & 0\\\\\n",
       "\t 103.01562 & 39.34165 &  0.32332837 &  1.0511644 & 3.1212375 & 21.744669 &  7.735822 &  63.17191 & 0\\\\\n",
       "\t 136.75000 & 57.17845 & -0.06841464 & -0.6362384 & 3.6429766 & 20.959280 &  6.896499 &  53.59366 & 0\\\\\n",
       "\t  93.57031 & 46.69811 &  0.53190485 &  0.4167211 & 1.6362876 & 14.545074 & 10.621748 & 131.39400 & 0\\\\\n",
       "\t 119.48438 & 48.76506 &  0.03146022 & -0.1121676 & 0.9991639 &  9.279612 & 19.206230 & 479.75657 & 0\\\\\n",
       "\t 130.38281 & 39.84406 & -0.15832276 &  0.3895404 & 1.2207358 & 14.378941 & 13.539456 & 198.23646 & 0\\\\\n",
       "\\end{tabular}\n"
      ],
      "text/markdown": [
       "\n",
       "A tibble: 6 × 9\n",
       "\n",
       "| mean &lt;dbl&gt; | std_dev &lt;dbl&gt; | kurt &lt;dbl&gt; | skew &lt;dbl&gt; | mean_dmsnr &lt;dbl&gt; | std_dev_dmsnr &lt;dbl&gt; | kurt_dmsnr &lt;dbl&gt; | skew_dmsnr &lt;dbl&gt; | class &lt;fct&gt; |\n",
       "|---|---|---|---|---|---|---|---|---|\n",
       "| 102.50781 | 58.88243 |  0.46531815 | -0.5150879 | 1.6772575 | 14.860146 | 10.576487 | 127.39358 | 0 |\n",
       "| 103.01562 | 39.34165 |  0.32332837 |  1.0511644 | 3.1212375 | 21.744669 |  7.735822 |  63.17191 | 0 |\n",
       "| 136.75000 | 57.17845 | -0.06841464 | -0.6362384 | 3.6429766 | 20.959280 |  6.896499 |  53.59366 | 0 |\n",
       "|  93.57031 | 46.69811 |  0.53190485 |  0.4167211 | 1.6362876 | 14.545074 | 10.621748 | 131.39400 | 0 |\n",
       "| 119.48438 | 48.76506 |  0.03146022 | -0.1121676 | 0.9991639 |  9.279612 | 19.206230 | 479.75657 | 0 |\n",
       "| 130.38281 | 39.84406 | -0.15832276 |  0.3895404 | 1.2207358 | 14.378941 | 13.539456 | 198.23646 | 0 |\n",
       "\n"
      ],
      "text/plain": [
       "  mean      std_dev  kurt        skew       mean_dmsnr std_dev_dmsnr kurt_dmsnr\n",
       "1 102.50781 58.88243  0.46531815 -0.5150879 1.6772575  14.860146     10.576487 \n",
       "2 103.01562 39.34165  0.32332837  1.0511644 3.1212375  21.744669      7.735822 \n",
       "3 136.75000 57.17845 -0.06841464 -0.6362384 3.6429766  20.959280      6.896499 \n",
       "4  93.57031 46.69811  0.53190485  0.4167211 1.6362876  14.545074     10.621748 \n",
       "5 119.48438 48.76506  0.03146022 -0.1121676 0.9991639   9.279612     19.206230 \n",
       "6 130.38281 39.84406 -0.15832276  0.3895404 1.2207358  14.378941     13.539456 \n",
       "  skew_dmsnr class\n",
       "1 127.39358  0    \n",
       "2  63.17191  0    \n",
       "3  53.59366  0    \n",
       "4 131.39400  0    \n",
       "5 479.75657  0    \n",
       "6 198.23646  0    "
      ]
     },
     "metadata": {},
     "output_type": "display_data"
    }
   ],
   "source": [
    "#4.Split data into training and test set\n",
    "\n",
    "pulsar_split<-initial_split(pulsar,prop=0.75,strata=class)\n",
    "pulsar_train<-training(pulsar_split)\n",
    "pulsar_test<-testing(pulsar_split)\n",
    "\n",
    "head(pulsar_train)"
   ]
  },
  {
   "cell_type": "markdown",
   "id": "47dccea5-db1e-4d80-bd22-b0a63dbf9297",
   "metadata": {},
   "source": [
    "<b>Summarizing and Visualizing the Data"
   ]
  },
  {
   "cell_type": "markdown",
   "id": "0627fa35-679c-4a8f-8199-09880e103172",
   "metadata": {},
   "source": [
    "The next code cell reduces the columns to be used, and summarizes their values. A count of each class is shown, as well as the average of all the columns and a count of missing values."
   ]
  },
  {
   "cell_type": "code",
   "execution_count": 47,
   "id": "bb701acc-8de7-4e65-b7b0-0b1c2f4b6435",
   "metadata": {},
   "outputs": [
    {
     "data": {
      "text/html": [
       "<table class=\"dataframe\">\n",
       "<caption>A data.frame: 1 × 5</caption>\n",
       "<thead>\n",
       "\t<tr><th scope=col>mean</th><th scope=col>std_dev</th><th scope=col>kurt</th><th scope=col>skew</th><th scope=col>missing_vals</th></tr>\n",
       "\t<tr><th scope=col>&lt;dbl&gt;</th><th scope=col>&lt;dbl&gt;</th><th scope=col>&lt;dbl&gt;</th><th scope=col>&lt;dbl&gt;</th><th scope=col>&lt;int&gt;</th></tr>\n",
       "</thead>\n",
       "<tbody>\n",
       "\t<tr><td>111.1363</td><td>46.56378</td><td>0.4749385</td><td>1.757917</td><td>0</td></tr>\n",
       "</tbody>\n",
       "</table>\n"
      ],
      "text/latex": [
       "A data.frame: 1 × 5\n",
       "\\begin{tabular}{lllll}\n",
       " mean & std\\_dev & kurt & skew & missing\\_vals\\\\\n",
       " <dbl> & <dbl> & <dbl> & <dbl> & <int>\\\\\n",
       "\\hline\n",
       "\t 111.1363 & 46.56378 & 0.4749385 & 1.757917 & 0\\\\\n",
       "\\end{tabular}\n"
      ],
      "text/markdown": [
       "\n",
       "A data.frame: 1 × 5\n",
       "\n",
       "| mean &lt;dbl&gt; | std_dev &lt;dbl&gt; | kurt &lt;dbl&gt; | skew &lt;dbl&gt; | missing_vals &lt;int&gt; |\n",
       "|---|---|---|---|---|\n",
       "| 111.1363 | 46.56378 | 0.4749385 | 1.757917 | 0 |\n",
       "\n"
      ],
      "text/plain": [
       "  mean     std_dev  kurt      skew     missing_vals\n",
       "1 111.1363 46.56378 0.4749385 1.757917 0           "
      ]
     },
     "metadata": {},
     "output_type": "display_data"
    },
    {
     "data": {
      "text/html": [
       "<table class=\"dataframe\">\n",
       "<caption>A tibble: 2 × 2</caption>\n",
       "<thead>\n",
       "\t<tr><th scope=col>class</th><th scope=col>count</th></tr>\n",
       "\t<tr><th scope=col>&lt;fct&gt;</th><th scope=col>&lt;int&gt;</th></tr>\n",
       "</thead>\n",
       "<tbody>\n",
       "\t<tr><td>0</td><td>12200</td></tr>\n",
       "\t<tr><td>1</td><td> 1223</td></tr>\n",
       "</tbody>\n",
       "</table>\n"
      ],
      "text/latex": [
       "A tibble: 2 × 2\n",
       "\\begin{tabular}{ll}\n",
       " class & count\\\\\n",
       " <fct> & <int>\\\\\n",
       "\\hline\n",
       "\t 0 & 12200\\\\\n",
       "\t 1 &  1223\\\\\n",
       "\\end{tabular}\n"
      ],
      "text/markdown": [
       "\n",
       "A tibble: 2 × 2\n",
       "\n",
       "| class &lt;fct&gt; | count &lt;int&gt; |\n",
       "|---|---|\n",
       "| 0 | 12200 |\n",
       "| 1 |  1223 |\n",
       "\n"
      ],
      "text/plain": [
       "  class count\n",
       "1 0     12200\n",
       "2 1      1223"
      ]
     },
     "metadata": {},
     "output_type": "display_data"
    }
   ],
   "source": [
    "reduced_train <- pulsar_train |>\n",
    "    select(-mean_dmsnr:-skew_dmsnr) #selecting for only integrated profile values\n",
    "\n",
    "class_count <- reduced_train |> #summarize counts of class labels\n",
    "    group_by(class) |>\n",
    "    summarize(count = n()) \n",
    "\n",
    "summary_train <- reduced_train |> #the average of all the predictor variables\n",
    "    select(-class) |>\n",
    "    map_df(mean)\n",
    "\n",
    "check_na <- as_tibble(sum(is.na(reduced_train))) |> #checking for na values\n",
    "    rename(missing_vals = value)\n",
    "\n",
    "total_summary <- cbind(summary_train, check_na) #combine summary_train and check_na into one df\n",
    "\n",
    "\n",
    "total_summary\n",
    "class_count"
   ]
  },
  {
   "cell_type": "markdown",
   "id": "e1a66e63-eaaa-4ff9-9139-d1807fa7604b",
   "metadata": {},
   "source": [
    "The following plot is an example of one way the research question can be answered. Using information from the stars' integrated profiles and excluding that of the DM-SNR curves, a relationship can be seen between the excess kurtosis and mean. It appears to be a strong negative linear relationship, with higher values of mean and lower values of excess kurtosis correlating to non-pulsar stars.\n",
    "\n",
    "\n"
   ]
  },
  {
   "cell_type": "code",
   "execution_count": null,
   "id": "8c4c9f4f-4ccf-4d1f-9ef7-ed5cc93e1bd9",
   "metadata": {},
   "outputs": [],
   "source": [
    "options(repr.plot.width = 9, repr.plot.height = 7)\n",
    "\n",
    "pulsar_star_graph <- pulsar_train |>\n",
    "ggplot(aes(x = mean, y = kurt, color = class)) +\n",
    "geom_point(alpha = 0.4) +\n",
    "\n",
    "labs(x = \"Mean of the Integrated Profile\", y = \"Excess kurtosis of the integrated profile\", color = \"Class\") +\n",
    "scale_color_manual(labels = c(\"Non-pulsar\", \"Pulsar\"),\n",
    "                   values = c(\"orange\", \"steel blue\")) +\n",
    "ggtitle(\"Determining Class from Mean and Excess\\n Kurtosis of Integrated Profile\")+\n",
    "theme(plot.title = element_text(hjust = 0.5))+\n",
    "theme(text = element_text(size = 20))\n",
    "\n",
    "pulsar_star_graph"
   ]
  },
  {
   "cell_type": "markdown",
   "id": "5951fa33-ac6f-4d5e-bb73-9350151a23da",
   "metadata": {},
   "source": [
    "\n",
    "\n",
    "\n",
    "\n",
    "    \n"
   ]
  },
  {
   "cell_type": "code",
   "execution_count": null,
   "id": "47831099-3c51-4e28-a401-fb7181f659ac",
   "metadata": {},
   "outputs": [],
   "source": []
  }
 ],
 "metadata": {
  "kernelspec": {
   "display_name": "R",
   "language": "R",
   "name": "ir"
  },
  "language_info": {
   "codemirror_mode": "r",
   "file_extension": ".r",
   "mimetype": "text/x-r-source",
   "name": "R",
   "pygments_lexer": "r",
   "version": "4.1.3"
  }
 },
 "nbformat": 4,
 "nbformat_minor": 5
}
