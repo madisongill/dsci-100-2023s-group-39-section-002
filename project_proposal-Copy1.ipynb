{
 "cells": [
  {
   "cell_type": "markdown",
   "id": "b1d8f580-c88a-4a47-ba0c-18625459baa3",
   "metadata": {},
   "source": [
    "# Project Proposal: Exploring Pulsar Star Data"
   ]
  },
  {
   "cell_type": "markdown",
   "id": "3bc307e8-5651-448f-887e-6820ddb8168e",
   "metadata": {},
   "source": [
    "##### Madison Gill, Katie Le, Brooke MacLeod, Nandini Soni"
   ]
  },
  {
   "cell_type": "markdown",
   "id": "0345100a-ce60-414b-a8e1-6bac65dbf896",
   "metadata": {},
   "source": [
    "## Introduction\n"
   ]
  },
  {
   "cell_type": "markdown",
   "id": "2463f0e3-aae3-4439-b667-dfd881540f67",
   "metadata": {},
   "source": [
    "#### Background\n",
    "    \n",
    "<p>Pulsar stars are a type of Neutron star that produce radio emission detectable on Earth, and used as probes of space-time, the interstellar medium, and states of matter<sup>1</sup>.</p> They are used to test parts of the theory of relativity, and their light emissions contain information about the physics of Neutron stars<sup>2</sup>.</p>\n",
    "    \n"
   ]
  },
  {
   "cell_type": "markdown",
   "id": "d1096b30-3c6e-4388-9df4-4b27a7ea5dd8",
   "metadata": {},
   "source": [
    "#### Research Question\n",
    "    \n",
    "---\n",
    "<p style=\"text-align: center;\"><b>How accurately can the Integrated Pulse Profile determine if a star is pulsar or non-pulsar?<b> </p>\n",
    "\n",
    "---\n",
    "    \n"
   ]
  },
  {
   "cell_type": "markdown",
   "id": "f3fba617-b5c4-4b40-b966-28825804967c",
   "metadata": {},
   "source": [
    "#### About The Dataset\n",
    "\n",
    "To answer the research question, the Pulsar Dataset [HTRU2](https://www.kaggle.com/datasets/charitarth/pulsar-dataset-htru2) will be used with data collected through the High Time Resolution Universe Survey.  \n",
    "\n",
    "<p>The dataset uses the mean, standard deviation, excess kurtosis, and skewness of the stars’ IPP and DM-SNR curves.</p>\n",
    "    \n",
    "><u>DM-SNR curves:</u>\n",
    ">Measure the radio waves released by pulsar stars once they reach Earth and have already traveled long distances in space surrounded by free electrons<sup>3</sup>.\n",
    "\n",
    "><u>Integrated Pulse Profile</u>: \n",
    ">Fingerprint of the pulsar. Averaging over thousands of rotations makes the profiles stable<sup>3</sup>.\n",
    "\n",
    "><u> Excess Kurtosis</u>:\n",
    ">Distribution of event outcomes have many outliers leading to fat tails on the bell-shaped distribution curve<sup>4</sup>. \n",
    "   "
   ]
  },
  {
   "cell_type": "markdown",
   "id": "737e7a94-ec4a-4b52-b67b-731e4b1e4aa3",
   "metadata": {},
   "source": [
    "## Data Analysis"
   ]
  },
  {
   "cell_type": "code",
   "execution_count": 2,
   "id": "0ddcccb9-53d5-400c-881a-07eec5a2ebc0",
   "metadata": {},
   "outputs": [
    {
     "name": "stderr",
     "output_type": "stream",
     "text": [
      "── \u001b[1mAttaching packages\u001b[22m ─────────────────────────────────────── tidyverse 1.3.1 ──\n",
      "\n",
      "\u001b[32m✔\u001b[39m \u001b[34mggplot2\u001b[39m 3.3.6     \u001b[32m✔\u001b[39m \u001b[34mpurrr  \u001b[39m 0.3.4\n",
      "\u001b[32m✔\u001b[39m \u001b[34mtibble \u001b[39m 3.1.7     \u001b[32m✔\u001b[39m \u001b[34mdplyr  \u001b[39m 1.0.9\n",
      "\u001b[32m✔\u001b[39m \u001b[34mtidyr  \u001b[39m 1.2.0     \u001b[32m✔\u001b[39m \u001b[34mstringr\u001b[39m 1.4.0\n",
      "\u001b[32m✔\u001b[39m \u001b[34mreadr  \u001b[39m 2.1.2     \u001b[32m✔\u001b[39m \u001b[34mforcats\u001b[39m 0.5.1\n",
      "\n",
      "── \u001b[1mConflicts\u001b[22m ────────────────────────────────────────── tidyverse_conflicts() ──\n",
      "\u001b[31m✖\u001b[39m \u001b[34mdplyr\u001b[39m::\u001b[32mfilter()\u001b[39m masks \u001b[34mstats\u001b[39m::filter()\n",
      "\u001b[31m✖\u001b[39m \u001b[34mdplyr\u001b[39m::\u001b[32mlag()\u001b[39m    masks \u001b[34mstats\u001b[39m::lag()\n",
      "\n",
      "── \u001b[1mAttaching packages\u001b[22m ────────────────────────────────────── tidymodels 1.0.0 ──\n",
      "\n",
      "\u001b[32m✔\u001b[39m \u001b[34mbroom       \u001b[39m 1.0.0     \u001b[32m✔\u001b[39m \u001b[34mrsample     \u001b[39m 1.0.0\n",
      "\u001b[32m✔\u001b[39m \u001b[34mdials       \u001b[39m 1.0.0     \u001b[32m✔\u001b[39m \u001b[34mtune        \u001b[39m 1.0.0\n",
      "\u001b[32m✔\u001b[39m \u001b[34minfer       \u001b[39m 1.0.2     \u001b[32m✔\u001b[39m \u001b[34mworkflows   \u001b[39m 1.0.0\n",
      "\u001b[32m✔\u001b[39m \u001b[34mmodeldata   \u001b[39m 1.0.0     \u001b[32m✔\u001b[39m \u001b[34mworkflowsets\u001b[39m 1.0.0\n",
      "\u001b[32m✔\u001b[39m \u001b[34mparsnip     \u001b[39m 1.0.0     \u001b[32m✔\u001b[39m \u001b[34myardstick   \u001b[39m 1.0.0\n",
      "\u001b[32m✔\u001b[39m \u001b[34mrecipes     \u001b[39m 1.0.1     \n",
      "\n",
      "── \u001b[1mConflicts\u001b[22m ───────────────────────────────────────── tidymodels_conflicts() ──\n",
      "\u001b[31m✖\u001b[39m \u001b[34mscales\u001b[39m::\u001b[32mdiscard()\u001b[39m masks \u001b[34mpurrr\u001b[39m::discard()\n",
      "\u001b[31m✖\u001b[39m \u001b[34mdplyr\u001b[39m::\u001b[32mfilter()\u001b[39m   masks \u001b[34mstats\u001b[39m::filter()\n",
      "\u001b[31m✖\u001b[39m \u001b[34mrecipes\u001b[39m::\u001b[32mfixed()\u001b[39m  masks \u001b[34mstringr\u001b[39m::fixed()\n",
      "\u001b[31m✖\u001b[39m \u001b[34mdplyr\u001b[39m::\u001b[32mlag()\u001b[39m      masks \u001b[34mstats\u001b[39m::lag()\n",
      "\u001b[31m✖\u001b[39m \u001b[34myardstick\u001b[39m::\u001b[32mspec()\u001b[39m masks \u001b[34mreadr\u001b[39m::spec()\n",
      "\u001b[31m✖\u001b[39m \u001b[34mrecipes\u001b[39m::\u001b[32mstep()\u001b[39m   masks \u001b[34mstats\u001b[39m::step()\n",
      "\u001b[34m•\u001b[39m Learn how to get started at \u001b[32mhttps://www.tidymodels.org/start/\u001b[39m\n",
      "\n"
     ]
    }
   ],
   "source": [
    "#1. Download libraries\n",
    "\n",
    "library(tidyverse)\n",
    "library(repr)\n",
    "library(tidymodels)\n",
    "library(infer)\n",
    "set.seed(1)"
   ]
  },
  {
   "cell_type": "code",
   "execution_count": 3,
   "id": "598fae04-f02a-445b-9c34-71b3fa88a3c6",
   "metadata": {},
   "outputs": [
    {
     "name": "stderr",
     "output_type": "stream",
     "text": [
      "\u001b[1mRows: \u001b[22m\u001b[34m17898\u001b[39m \u001b[1mColumns: \u001b[22m\u001b[34m9\u001b[39m\n",
      "\u001b[36m──\u001b[39m \u001b[1mColumn specification\u001b[22m \u001b[36m────────────────────────────────────────────────────────\u001b[39m\n",
      "\u001b[1mDelimiter:\u001b[22m \",\"\n",
      "\u001b[32mdbl\u001b[39m (9): X1, X2, X3, X4, X5, X6, X7, X8, X9\n",
      "\n",
      "\u001b[36mℹ\u001b[39m Use `spec()` to retrieve the full column specification for this data.\n",
      "\u001b[36mℹ\u001b[39m Specify the column types or set `show_col_types = FALSE` to quiet this message.\n"
     ]
    }
   ],
   "source": [
    "#2.Read in data Pulsar Star Data\n",
    "\n",
    "pulsar_star_data<-read_csv(\"https://raw.githubusercontent.com/madisongill/dsci-100-2023s-group-39-section-002/main/HTRU_2.csv\",col_names=FALSE)"
   ]
  },
  {
   "cell_type": "code",
   "execution_count": 4,
   "id": "8b27aed7-75db-4fe7-9483-d6d6c4f5cd36",
   "metadata": {},
   "outputs": [],
   "source": [
    "#3. Tidy data (add column names,condense if needed)\n",
    "\n",
    "pulsar <- pulsar_star_data|>\n",
    "rename(mean=X1,\n",
    "       std_dev=X2,\n",
    "       kurt=X3,\n",
    "       skew=X4,\n",
    "       mean_dmsnr=X5,\n",
    "       std_dev_dmsnr=X6,\n",
    "       kurt_dmsnr=X7,\n",
    "       skew_dmsnr=X8,\n",
    "       class=X9) |>\n",
    "mutate(class = as_factor(class))  "
   ]
  },
  {
   "cell_type": "markdown",
   "id": "144bf1a9-d5d5-41f4-9cb7-9ab775870951",
   "metadata": {},
   "source": [
    "<p>The Class variable has been converted to a factor because the corresponding observations are binary: pulsar or non-pulsar.</p>"
   ]
  },
  {
   "cell_type": "code",
   "execution_count": 5,
   "id": "6b71a0ff-a866-400d-aa55-beaa7a4df086",
   "metadata": {},
   "outputs": [],
   "source": [
    "#4.Split data into training and test set\n",
    "\n",
    "pulsar_split<-initial_split(pulsar,prop=0.75,strata=class)\n",
    "pulsar_train<-training(pulsar_split)\n",
    "pulsar_test<-testing(pulsar_split)\n",
    "\n",
    "#demonstrate data was split\n",
    "train<-nrow(pulsar_train)\n",
    "\n",
    "split<-nrow(pulsar)\n",
    "\n",
    "percentage_train_data<-train/split*100\n",
    "\n",
    "test<-nrow(pulsar_test)\n",
    "\n",
    "percentage_test_data<-test/split*100"
   ]
  },
  {
   "cell_type": "markdown",
   "id": "47dccea5-db1e-4d80-bd22-b0a63dbf9297",
   "metadata": {},
   "source": [
    "#### Summary"
   ]
  },
  {
   "cell_type": "markdown",
   "id": "0627fa35-679c-4a8f-8199-09880e103172",
   "metadata": {},
   "source": [
    "The next code cell reduces the columns and summarizes their values. The count and proportion of each Class, average and standard deviation of each variable, and a count of missing values are shown."
   ]
  },
  {
   "cell_type": "code",
   "execution_count": 6,
   "id": "bb701acc-8de7-4e65-b7b0-0b1c2f4b6435",
   "metadata": {},
   "outputs": [
    {
     "data": {
      "text/html": [
       "<table class=\"dataframe\">\n",
       "<caption>A tibble: 1 × 5</caption>\n",
       "<thead>\n",
       "\t<tr><th scope=col>missing_vals</th><th scope=col>mean_avg</th><th scope=col>std_dev_avg</th><th scope=col>kurt_avg</th><th scope=col>skew_avg</th></tr>\n",
       "\t<tr><th scope=col>&lt;int&gt;</th><th scope=col>&lt;dbl&gt;</th><th scope=col>&lt;dbl&gt;</th><th scope=col>&lt;dbl&gt;</th><th scope=col>&lt;dbl&gt;</th></tr>\n",
       "</thead>\n",
       "<tbody>\n",
       "\t<tr><td>0</td><td>111.1363</td><td>46.56378</td><td>0.4749385</td><td>1.757917</td></tr>\n",
       "</tbody>\n",
       "</table>\n"
      ],
      "text/latex": [
       "A tibble: 1 × 5\n",
       "\\begin{tabular}{lllll}\n",
       " missing\\_vals & mean\\_avg & std\\_dev\\_avg & kurt\\_avg & skew\\_avg\\\\\n",
       " <int> & <dbl> & <dbl> & <dbl> & <dbl>\\\\\n",
       "\\hline\n",
       "\t 0 & 111.1363 & 46.56378 & 0.4749385 & 1.757917\\\\\n",
       "\\end{tabular}\n"
      ],
      "text/markdown": [
       "\n",
       "A tibble: 1 × 5\n",
       "\n",
       "| missing_vals &lt;int&gt; | mean_avg &lt;dbl&gt; | std_dev_avg &lt;dbl&gt; | kurt_avg &lt;dbl&gt; | skew_avg &lt;dbl&gt; |\n",
       "|---|---|---|---|---|\n",
       "| 0 | 111.1363 | 46.56378 | 0.4749385 | 1.757917 |\n",
       "\n"
      ],
      "text/plain": [
       "  missing_vals mean_avg std_dev_avg kurt_avg  skew_avg\n",
       "1 0            111.1363 46.56378    0.4749385 1.757917"
      ]
     },
     "metadata": {},
     "output_type": "display_data"
    },
    {
     "data": {
      "text/html": [
       "<table class=\"dataframe\">\n",
       "<caption>A tibble: 1 × 4</caption>\n",
       "<thead>\n",
       "\t<tr><th scope=col>mean_sd</th><th scope=col>std_dev_sd</th><th scope=col>kurt_sd</th><th scope=col>skew_sd</th></tr>\n",
       "\t<tr><th scope=col>&lt;dbl&gt;</th><th scope=col>&lt;dbl&gt;</th><th scope=col>&lt;dbl&gt;</th><th scope=col>&lt;dbl&gt;</th></tr>\n",
       "</thead>\n",
       "<tbody>\n",
       "\t<tr><td>25.51276</td><td>6.818183</td><td>1.059845</td><td>6.172478</td></tr>\n",
       "</tbody>\n",
       "</table>\n"
      ],
      "text/latex": [
       "A tibble: 1 × 4\n",
       "\\begin{tabular}{llll}\n",
       " mean\\_sd & std\\_dev\\_sd & kurt\\_sd & skew\\_sd\\\\\n",
       " <dbl> & <dbl> & <dbl> & <dbl>\\\\\n",
       "\\hline\n",
       "\t 25.51276 & 6.818183 & 1.059845 & 6.172478\\\\\n",
       "\\end{tabular}\n"
      ],
      "text/markdown": [
       "\n",
       "A tibble: 1 × 4\n",
       "\n",
       "| mean_sd &lt;dbl&gt; | std_dev_sd &lt;dbl&gt; | kurt_sd &lt;dbl&gt; | skew_sd &lt;dbl&gt; |\n",
       "|---|---|---|---|\n",
       "| 25.51276 | 6.818183 | 1.059845 | 6.172478 |\n",
       "\n"
      ],
      "text/plain": [
       "  mean_sd  std_dev_sd kurt_sd  skew_sd \n",
       "1 25.51276 6.818183   1.059845 6.172478"
      ]
     },
     "metadata": {},
     "output_type": "display_data"
    },
    {
     "data": {
      "text/html": [
       "<table class=\"dataframe\">\n",
       "<caption>A tibble: 2 × 3</caption>\n",
       "<thead>\n",
       "\t<tr><th scope=col>class</th><th scope=col>count</th><th scope=col>percent_of_train</th></tr>\n",
       "\t<tr><th scope=col>&lt;fct&gt;</th><th scope=col>&lt;int&gt;</th><th scope=col>&lt;dbl&gt;</th></tr>\n",
       "</thead>\n",
       "<tbody>\n",
       "\t<tr><td>0</td><td>12200</td><td>90.888773</td></tr>\n",
       "\t<tr><td>1</td><td> 1223</td><td> 9.111227</td></tr>\n",
       "</tbody>\n",
       "</table>\n"
      ],
      "text/latex": [
       "A tibble: 2 × 3\n",
       "\\begin{tabular}{lll}\n",
       " class & count & percent\\_of\\_train\\\\\n",
       " <fct> & <int> & <dbl>\\\\\n",
       "\\hline\n",
       "\t 0 & 12200 & 90.888773\\\\\n",
       "\t 1 &  1223 &  9.111227\\\\\n",
       "\\end{tabular}\n"
      ],
      "text/markdown": [
       "\n",
       "A tibble: 2 × 3\n",
       "\n",
       "| class &lt;fct&gt; | count &lt;int&gt; | percent_of_train &lt;dbl&gt; |\n",
       "|---|---|---|\n",
       "| 0 | 12200 | 90.888773 |\n",
       "| 1 |  1223 |  9.111227 |\n",
       "\n"
      ],
      "text/plain": [
       "  class count percent_of_train\n",
       "1 0     12200 90.888773       \n",
       "2 1      1223  9.111227       "
      ]
     },
     "metadata": {},
     "output_type": "display_data"
    },
    {
     "data": {
      "image/png": "[encoded data removed]",
      "text/plain": [
       "plot without title"
      ]
     },
     "metadata": {
      "image/png": {
       "height": 420,
       "width": 420
      }
     },
     "output_type": "display_data"
    }
   ],
   "source": [
    "reduced_train <- pulsar_train |>\n",
    "    select(-(mean_dmsnr:skew_dmsnr)) #selecting for only integrated profile values\n",
    "\n",
    "reduced_test <- pulsar_test |>\n",
    "    select(-(mean_dmsnr:skew_dmsnr)) \n",
    "\n",
    "number_obs<-nrow(reduced_train)\n",
    "\n",
    "class_count <- reduced_train |> #summarize counts of class labels\n",
    "    group_by(class) |>\n",
    "    summarize(count = n(),\n",
    "            percent_of_train=n()/number_obs*100) #percentage of pulsar vs non pulsar\n",
    "\n",
    "summary_train <- reduced_train |> #the average of all the predictor variables\n",
    "    select(-class) |>\n",
    "    map_df(mean) |>\n",
    "    rename(mean_avg = mean,\n",
    "           std_dev_avg = std_dev, \n",
    "           kurt_avg = kurt,\n",
    "           skew_avg = skew)\n",
    "\n",
    "means_and_counts<- as_tibble(sum(is.na(reduced_train))) |> #checking for na values\n",
    "    rename(missing_vals = value) |>\n",
    "    bind_cols(summary_train)  #combine summary_train and missing values check into one\n",
    "\n",
    "standard_dev <- reduced_train |> #the standard deviation of all predictor variables, #found the sd function (5)\n",
    "                    mutate(mean_sd = sd(mean),\n",
    "                       std_dev_sd = sd(std_dev),\n",
    "                       kurt_sd = sd(kurt),\n",
    "                       skew_sd = sd(skew))|>\n",
    "                    slice(1)|>\n",
    "                    select(mean_sd,std_dev_sd,kurt_sd,skew_sd)\n",
    "\n",
    "\n",
    "prop_plot <- class_count |> #bar graph to show proportions of classes (visual comparison)\n",
    "    ggplot(aes(x = class, y = count, fill = class)) +\n",
    "    geom_bar(stat = \"identity\") +\n",
    "    labs(x = \"Class\", y = \"Count\", fill = \"Class\") +\n",
    "    ggtitle(\"Counts of Non Pulsar and Pulsar Stars\")+\n",
    "    theme(text = element_text(size = 20))\n",
    "    \n",
    "\n",
    "means_and_counts\n",
    "standard_dev\n",
    "class_count\n",
    "prop_plot"
   ]
  },
  {
   "cell_type": "markdown",
   "id": "3f59e60b-e698-44e7-8b42-c78a29fe7082",
   "metadata": {},
   "source": [
    "#### Class Imbalance"
   ]
  },
  {
   "cell_type": "markdown",
   "id": "6bf683d5-8270-4598-812f-045215dc1319",
   "metadata": {},
   "source": [
    "To fix the class imbalance using the rep_sample_n function from the infer library reduced the count of non pulsar stars to equal the amount of pulsar stars"
   ]
  },
  {
   "cell_type": "code",
   "execution_count": 17,
   "id": "bbb00d17-a73a-4a41-96ac-2f81da3d6980",
   "metadata": {},
   "outputs": [
    {
     "data": {
      "text/html": [
       "<table class=\"dataframe\">\n",
       "<caption>A tibble: 16259 × 1</caption>\n",
       "<thead>\n",
       "\t<tr><th scope=col>class</th></tr>\n",
       "\t<tr><th scope=col>&lt;fct&gt;</th></tr>\n",
       "</thead>\n",
       "<tbody>\n",
       "\t<tr><td>0</td></tr>\n",
       "\t<tr><td>0</td></tr>\n",
       "\t<tr><td>0</td></tr>\n",
       "\t<tr><td>0</td></tr>\n",
       "\t<tr><td>0</td></tr>\n",
       "\t<tr><td>0</td></tr>\n",
       "\t<tr><td>0</td></tr>\n",
       "\t<tr><td>0</td></tr>\n",
       "\t<tr><td>0</td></tr>\n",
       "\t<tr><td>0</td></tr>\n",
       "\t<tr><td>0</td></tr>\n",
       "\t<tr><td>0</td></tr>\n",
       "\t<tr><td>0</td></tr>\n",
       "\t<tr><td>0</td></tr>\n",
       "\t<tr><td>0</td></tr>\n",
       "\t<tr><td>0</td></tr>\n",
       "\t<tr><td>0</td></tr>\n",
       "\t<tr><td>0</td></tr>\n",
       "\t<tr><td>0</td></tr>\n",
       "\t<tr><td>0</td></tr>\n",
       "\t<tr><td>0</td></tr>\n",
       "\t<tr><td>0</td></tr>\n",
       "\t<tr><td>0</td></tr>\n",
       "\t<tr><td>0</td></tr>\n",
       "\t<tr><td>0</td></tr>\n",
       "\t<tr><td>0</td></tr>\n",
       "\t<tr><td>0</td></tr>\n",
       "\t<tr><td>0</td></tr>\n",
       "\t<tr><td>0</td></tr>\n",
       "\t<tr><td>0</td></tr>\n",
       "\t<tr><td>⋮</td></tr>\n",
       "\t<tr><td>0</td></tr>\n",
       "\t<tr><td>0</td></tr>\n",
       "\t<tr><td>0</td></tr>\n",
       "\t<tr><td>0</td></tr>\n",
       "\t<tr><td>0</td></tr>\n",
       "\t<tr><td>0</td></tr>\n",
       "\t<tr><td>0</td></tr>\n",
       "\t<tr><td>0</td></tr>\n",
       "\t<tr><td>0</td></tr>\n",
       "\t<tr><td>0</td></tr>\n",
       "\t<tr><td>0</td></tr>\n",
       "\t<tr><td>0</td></tr>\n",
       "\t<tr><td>0</td></tr>\n",
       "\t<tr><td>0</td></tr>\n",
       "\t<tr><td>0</td></tr>\n",
       "\t<tr><td>0</td></tr>\n",
       "\t<tr><td>0</td></tr>\n",
       "\t<tr><td>0</td></tr>\n",
       "\t<tr><td>0</td></tr>\n",
       "\t<tr><td>0</td></tr>\n",
       "\t<tr><td>0</td></tr>\n",
       "\t<tr><td>0</td></tr>\n",
       "\t<tr><td>0</td></tr>\n",
       "\t<tr><td>0</td></tr>\n",
       "\t<tr><td>0</td></tr>\n",
       "\t<tr><td>0</td></tr>\n",
       "\t<tr><td>0</td></tr>\n",
       "\t<tr><td>0</td></tr>\n",
       "\t<tr><td>0</td></tr>\n",
       "\t<tr><td>0</td></tr>\n",
       "</tbody>\n",
       "</table>\n"
      ],
      "text/latex": [
       "A tibble: 16259 × 1\n",
       "\\begin{tabular}{l}\n",
       " class\\\\\n",
       " <fct>\\\\\n",
       "\\hline\n",
       "\t 0\\\\\n",
       "\t 0\\\\\n",
       "\t 0\\\\\n",
       "\t 0\\\\\n",
       "\t 0\\\\\n",
       "\t 0\\\\\n",
       "\t 0\\\\\n",
       "\t 0\\\\\n",
       "\t 0\\\\\n",
       "\t 0\\\\\n",
       "\t 0\\\\\n",
       "\t 0\\\\\n",
       "\t 0\\\\\n",
       "\t 0\\\\\n",
       "\t 0\\\\\n",
       "\t 0\\\\\n",
       "\t 0\\\\\n",
       "\t 0\\\\\n",
       "\t 0\\\\\n",
       "\t 0\\\\\n",
       "\t 0\\\\\n",
       "\t 0\\\\\n",
       "\t 0\\\\\n",
       "\t 0\\\\\n",
       "\t 0\\\\\n",
       "\t 0\\\\\n",
       "\t 0\\\\\n",
       "\t 0\\\\\n",
       "\t 0\\\\\n",
       "\t 0\\\\\n",
       "\t ⋮\\\\\n",
       "\t 0\\\\\n",
       "\t 0\\\\\n",
       "\t 0\\\\\n",
       "\t 0\\\\\n",
       "\t 0\\\\\n",
       "\t 0\\\\\n",
       "\t 0\\\\\n",
       "\t 0\\\\\n",
       "\t 0\\\\\n",
       "\t 0\\\\\n",
       "\t 0\\\\\n",
       "\t 0\\\\\n",
       "\t 0\\\\\n",
       "\t 0\\\\\n",
       "\t 0\\\\\n",
       "\t 0\\\\\n",
       "\t 0\\\\\n",
       "\t 0\\\\\n",
       "\t 0\\\\\n",
       "\t 0\\\\\n",
       "\t 0\\\\\n",
       "\t 0\\\\\n",
       "\t 0\\\\\n",
       "\t 0\\\\\n",
       "\t 0\\\\\n",
       "\t 0\\\\\n",
       "\t 0\\\\\n",
       "\t 0\\\\\n",
       "\t 0\\\\\n",
       "\t 0\\\\\n",
       "\\end{tabular}\n"
      ],
      "text/markdown": [
       "\n",
       "A tibble: 16259 × 1\n",
       "\n",
       "| class &lt;fct&gt; |\n",
       "|---|\n",
       "| 0 |\n",
       "| 0 |\n",
       "| 0 |\n",
       "| 0 |\n",
       "| 0 |\n",
       "| 0 |\n",
       "| 0 |\n",
       "| 0 |\n",
       "| 0 |\n",
       "| 0 |\n",
       "| 0 |\n",
       "| 0 |\n",
       "| 0 |\n",
       "| 0 |\n",
       "| 0 |\n",
       "| 0 |\n",
       "| 0 |\n",
       "| 0 |\n",
       "| 0 |\n",
       "| 0 |\n",
       "| 0 |\n",
       "| 0 |\n",
       "| 0 |\n",
       "| 0 |\n",
       "| 0 |\n",
       "| 0 |\n",
       "| 0 |\n",
       "| 0 |\n",
       "| 0 |\n",
       "| 0 |\n",
       "| ⋮ |\n",
       "| 0 |\n",
       "| 0 |\n",
       "| 0 |\n",
       "| 0 |\n",
       "| 0 |\n",
       "| 0 |\n",
       "| 0 |\n",
       "| 0 |\n",
       "| 0 |\n",
       "| 0 |\n",
       "| 0 |\n",
       "| 0 |\n",
       "| 0 |\n",
       "| 0 |\n",
       "| 0 |\n",
       "| 0 |\n",
       "| 0 |\n",
       "| 0 |\n",
       "| 0 |\n",
       "| 0 |\n",
       "| 0 |\n",
       "| 0 |\n",
       "| 0 |\n",
       "| 0 |\n",
       "| 0 |\n",
       "| 0 |\n",
       "| 0 |\n",
       "| 0 |\n",
       "| 0 |\n",
       "| 0 |\n",
       "\n"
      ],
      "text/plain": [
       "      class\n",
       "1     0    \n",
       "2     0    \n",
       "3     0    \n",
       "4     0    \n",
       "5     0    \n",
       "6     0    \n",
       "7     0    \n",
       "8     0    \n",
       "9     0    \n",
       "10    0    \n",
       "11    0    \n",
       "12    0    \n",
       "13    0    \n",
       "14    0    \n",
       "15    0    \n",
       "16    0    \n",
       "17    0    \n",
       "18    0    \n",
       "19    0    \n",
       "20    0    \n",
       "21    0    \n",
       "22    0    \n",
       "23    0    \n",
       "24    0    \n",
       "25    0    \n",
       "26    0    \n",
       "27    0    \n",
       "28    0    \n",
       "29    0    \n",
       "30    0    \n",
       "⋮     ⋮    \n",
       "16230 0    \n",
       "16231 0    \n",
       "16232 0    \n",
       "16233 0    \n",
       "16234 0    \n",
       "16235 0    \n",
       "16236 0    \n",
       "16237 0    \n",
       "16238 0    \n",
       "16239 0    \n",
       "16240 0    \n",
       "16241 0    \n",
       "16242 0    \n",
       "16243 0    \n",
       "16244 0    \n",
       "16245 0    \n",
       "16246 0    \n",
       "16247 0    \n",
       "16248 0    \n",
       "16249 0    \n",
       "16250 0    \n",
       "16251 0    \n",
       "16252 0    \n",
       "16253 0    \n",
       "16254 0    \n",
       "16255 0    \n",
       "16256 0    \n",
       "16257 0    \n",
       "16258 0    \n",
       "16259 0    "
      ]
     },
     "metadata": {},
     "output_type": "display_data"
    },
    {
     "ename": "ERROR",
     "evalue": "Error: `tbl` must be 'data.frame', not 'double'.\n",
     "output_type": "error",
     "traceback": [
      "Error: `tbl` must be 'data.frame', not 'double'.\nTraceback:\n",
      "1. rep_sample_n(40)",
      "2. check_type(tbl, is.data.frame)",
      "3. stop_glue(\"`{x_name}` must be '{type_name}', not '{get_type(x)}'.\")",
      "4. stop(glue_null(..., .sep = .sep, .envir = .envir), call. = call., \n .     domain = .domain)"
     ]
    }
   ],
   "source": [
    "class_count_0 <-pulsar|>\n",
    "                    select(class)|>\n",
    "                    filter(class==\"0\")\n",
    "\n",
    "class_count_0<- class_count_0|>\n",
    "    rep_sample_n(1212)\n",
    "class_count_balanced\n",
    "                    "
   ]
  },
  {
   "cell_type": "markdown",
   "id": "0a60d51c-0bcb-4a72-9151-372f3a3cb463",
   "metadata": {},
   "source": [
    "#### Visualization"
   ]
  },
  {
   "cell_type": "markdown",
   "id": "e1a66e63-eaaa-4ff9-9139-d1807fa7604b",
   "metadata": {},
   "source": [
    "The plot is an example of using the variables to determine Class. From the IPP variables, a relationship can be seen between the excess kurtosis and mean. It appears to be a strong, negative, non-linear relationship."
   ]
  },
  {
   "cell_type": "code",
   "execution_count": null,
   "id": "8c4c9f4f-4ccf-4d1f-9ef7-ed5cc93e1bd9",
   "metadata": {},
   "outputs": [],
   "source": [
    "options(repr.plot.width = 10, repr.plot.height = 10)\n",
    "\n",
    "pulsar_star_graph <- pulsar_train |>\n",
    "ggplot(aes(x = mean, y = kurt, color = class)) +\n",
    "geom_point(alpha = 0.4) +\n",
    "\n",
    "labs(x = \"Mean of the Integrated Profile\", y = \"Excess kurtosis of \\nthe Integrated Profile\", color = \"Class\") +\n",
    "scale_color_manual(labels = c(\"Non-pulsar\", \"Pulsar\"),\n",
    "                   values = c(\"orange\", \"steel blue\")) +\n",
    "ggtitle(\"Determining Class from Mean and Excess\\n Kurtosis of Integrated Profile\")+\n",
    "theme(plot.title = element_text(hjust = 0.5))+\n",
    "theme(text = element_text(size = 20))\n",
    "\n",
    "pulsar_star_graph"
   ]
  },
  {
   "cell_type": "markdown",
   "id": "5951fa33-ac6f-4d5e-bb73-9350151a23da",
   "metadata": {},
   "source": [
    "\n",
    "\n",
    "\n",
    "\n",
    "    \n"
   ]
  },
  {
   "cell_type": "markdown",
   "id": "932889a1-254b-4eb1-bfe9-646777608c49",
   "metadata": {},
   "source": [
    "## Methods"
   ]
  },
  {
   "cell_type": "markdown",
   "id": "94587be7-01a2-49bb-91f1-05693967a173",
   "metadata": {},
   "source": [
    "The Class will be determined using four variables. Since the IPP alone can determine whether a star is pulsar or non-pulsar, columns related to the DM-SNR curve will be excluded through selecting the mean, standard deviation, kurtosis, and skewness of the IPP.\n",
    "\n",
    "To ensure the model can be tested, the dataset will first be split into a training and testing set. The variables will be scaled, class imbalance will be fixed. A classification model, using cross-validation, will be created using $k$ nearest neighbors to predict the star type.\n",
    "\n",
    "The results will be visualized by plotting estimated accuracy against neighbors to show the ideal $k$ value to use. A bar graph containing true positives, false positives, true negatives, and false negatives will be added to highlight the accuracy of the model."
   ]
  },
  {
   "cell_type": "markdown",
   "id": "fadceca6-e41d-4922-b9b5-8ad664f7742d",
   "metadata": {},
   "source": [
    "## Significance"
   ]
  },
  {
   "cell_type": "markdown",
   "id": "31bf0bd2-e2b6-47fb-bdb0-9a8014994eb9",
   "metadata": {},
   "source": [
    "<p>The expected outcome is a highly accurate model which predicts the stars’ type. Each IPP of a star is unique, acting as a fingerprint, so the model can determine the star type while trained solely on the IPP variables.\n",
    "If the model is successful, then only the IPP variables are important in identifying the stars, rather than the DM-SNR curve. This analysis can help with answering future questions such as:</p> \n",
    "\n",
    "<p style=\"text-align: center;\"><b>Which factors are effective predictors of star type?<b> </p>\n",
    "<p style=\"text-align: center;\"><b>Is this relationship between predictor variables applicable to other space phenomena?<b> </p>\n",
    "<p style=\"text-align: center;\"><b>Would using DM-SNR variables improve the model’s accuracy?<b> </p>\n",
    "    \n",
    "\n",
    "\n"
   ]
  },
  {
   "cell_type": "markdown",
   "id": "4d0069c8-c290-4437-9c79-439d987438a3",
   "metadata": {},
   "source": [
    "## References"
   ]
  },
  {
   "cell_type": "markdown",
   "id": "8baea232-3c05-4e7e-890d-90b663cf32b5",
   "metadata": {},
   "source": [
    "1.https://archive.ics.uci.edu/dataset/372/htru2\n",
    "\n",
    "2.https://www.space.com/32661-pulsars.html#:~:text=Pulsars%20have%20been%20used%20to,first%20time%20in%20February%202016\n",
    "\n",
    "\n",
    "3.https://www.kaggle.com/datasets/charitarth/pulsar-dataset-htru2\n",
    "\n",
    "4.https://www.investopedia.com/terms/e/excesskurtosis.asp#:~:text=Excess%20kurtosis%20means%20the%20distribution,by%20subtracting%20kurtosis%20by%20three.\n",
    "\n",
    "5.https://www.digitalocean.com/community/tutorials/find-standard-deviation-in-r#:~:text=R%20is%20easy.-,R%20offers%20standard%20function%20sd(%27%20%27)%20to%20find%20the%20standard,through%20indexing%20as%20shown%20above."
   ]
  }
 ],
 "metadata": {
  "kernelspec": {
   "display_name": "R",
   "language": "R",
   "name": "ir"
  },
  "language_info": {
   "codemirror_mode": "r",
   "file_extension": ".r",
   "mimetype": "text/x-r-source",
   "name": "R",
   "pygments_lexer": "r",
   "version": "4.1.3"
  }
 },
 "nbformat": 4,
 "nbformat_minor": 5
}
