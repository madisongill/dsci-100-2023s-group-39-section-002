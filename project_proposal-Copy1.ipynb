{
 "cells": [
  {
   "cell_type": "markdown",
   "id": "b1d8f580-c88a-4a47-ba0c-18625459baa3",
   "metadata": {},
   "source": [
    "# Project Proposal: Exploring Pulsar Star Data"
   ]
  },
  {
   "cell_type": "markdown",
   "id": "3bc307e8-5651-448f-887e-6820ddb8168e",
   "metadata": {},
   "source": [
    "##### Madison Gill, Katie Le, Brooke MacLeod, Nandini Soni"
   ]
  },
  {
   "cell_type": "markdown",
   "id": "0345100a-ce60-414b-a8e1-6bac65dbf896",
   "metadata": {},
   "source": [
    "## Introduction\n"
   ]
  },
  {
   "cell_type": "markdown",
   "id": "2463f0e3-aae3-4439-b667-dfd881540f67",
   "metadata": {},
   "source": [
    "#### Background\n",
    "    \n",
    "<p>Pulsar stars are a type of Neutron star that produce radio emission detectable on Earth, and used as probes of space-time, the interstellar medium, and states of matter<sup>1</sup>.</p> They are used to test parts of the theory of relativity, and their light emissions contain information about the physics of Neutron stars<sup>2</sup>.</p>\n",
    "    \n"
   ]
  },
  {
   "cell_type": "markdown",
   "id": "d1096b30-3c6e-4388-9df4-4b27a7ea5dd8",
   "metadata": {},
   "source": [
    "#### Research Question\n",
    "    \n",
    "---\n",
    "<p style=\"text-align: center;\"><b>How accurately can the Integrated Pulse Profile determine if a star is pulsar or non-pulsar?<b> </p>\n",
    "\n",
    "---\n",
    "    \n"
   ]
  },
  {
   "cell_type": "markdown",
   "id": "f3fba617-b5c4-4b40-b966-28825804967c",
   "metadata": {},
   "source": [
    "#### About The Dataset\n",
    "\n",
    "To answer the research question, the Pulsar Dataset [HTRU2](https://www.kaggle.com/datasets/charitarth/pulsar-dataset-htru2) will be used with data collected through the High Time Resolution Universe Survey.  \n",
    "\n",
    "<p>The dataset uses the mean, standard deviation, excess kurtosis, and skewness of the stars’ IPP and DM-SNR curves.</p>\n",
    "    \n",
    "><u>DM-SNR curves:</u>\n",
    ">Measure the radio waves released by pulsar stars once they reach Earth and have already traveled long distances in space surrounded by free electrons<sup>3</sup>.\n",
    "\n",
    "><u>Integrated Pulse Profile</u>: \n",
    ">Fingerprint of the pulsar. Averaging over thousands of rotations makes the profiles stable<sup>3</sup>.\n",
    "\n",
    "><u> Excess Kurtosis</u>:\n",
    ">Distribution of event outcomes have many outliers leading to fat tails on the bell-shaped distribution curve<sup>4</sup>. \n",
    "   "
   ]
  },
  {
   "cell_type": "markdown",
   "id": "737e7a94-ec4a-4b52-b67b-731e4b1e4aa3",
   "metadata": {},
   "source": [
    "## Data Analysis"
   ]
  },
  {
   "cell_type": "code",
   "execution_count": 1,
   "id": "0ddcccb9-53d5-400c-881a-07eec5a2ebc0",
   "metadata": {},
   "outputs": [
    {
     "name": "stderr",
     "output_type": "stream",
     "text": [
      "── \u001b[1mAttaching packages\u001b[22m ─────────────────────────────────────── tidyverse 1.3.1 ──\n",
      "\n",
      "\u001b[32m✔\u001b[39m \u001b[34mggplot2\u001b[39m 3.3.6     \u001b[32m✔\u001b[39m \u001b[34mpurrr  \u001b[39m 0.3.4\n",
      "\u001b[32m✔\u001b[39m \u001b[34mtibble \u001b[39m 3.1.7     \u001b[32m✔\u001b[39m \u001b[34mdplyr  \u001b[39m 1.0.9\n",
      "\u001b[32m✔\u001b[39m \u001b[34mtidyr  \u001b[39m 1.2.0     \u001b[32m✔\u001b[39m \u001b[34mstringr\u001b[39m 1.4.0\n",
      "\u001b[32m✔\u001b[39m \u001b[34mreadr  \u001b[39m 2.1.2     \u001b[32m✔\u001b[39m \u001b[34mforcats\u001b[39m 0.5.1\n",
      "\n",
      "── \u001b[1mConflicts\u001b[22m ────────────────────────────────────────── tidyverse_conflicts() ──\n",
      "\u001b[31m✖\u001b[39m \u001b[34mdplyr\u001b[39m::\u001b[32mfilter()\u001b[39m masks \u001b[34mstats\u001b[39m::filter()\n",
      "\u001b[31m✖\u001b[39m \u001b[34mdplyr\u001b[39m::\u001b[32mlag()\u001b[39m    masks \u001b[34mstats\u001b[39m::lag()\n",
      "\n",
      "── \u001b[1mAttaching packages\u001b[22m ────────────────────────────────────── tidymodels 1.0.0 ──\n",
      "\n",
      "\u001b[32m✔\u001b[39m \u001b[34mbroom       \u001b[39m 1.0.0     \u001b[32m✔\u001b[39m \u001b[34mrsample     \u001b[39m 1.0.0\n",
      "\u001b[32m✔\u001b[39m \u001b[34mdials       \u001b[39m 1.0.0     \u001b[32m✔\u001b[39m \u001b[34mtune        \u001b[39m 1.0.0\n",
      "\u001b[32m✔\u001b[39m \u001b[34minfer       \u001b[39m 1.0.2     \u001b[32m✔\u001b[39m \u001b[34mworkflows   \u001b[39m 1.0.0\n",
      "\u001b[32m✔\u001b[39m \u001b[34mmodeldata   \u001b[39m 1.0.0     \u001b[32m✔\u001b[39m \u001b[34mworkflowsets\u001b[39m 1.0.0\n",
      "\u001b[32m✔\u001b[39m \u001b[34mparsnip     \u001b[39m 1.0.0     \u001b[32m✔\u001b[39m \u001b[34myardstick   \u001b[39m 1.0.0\n",
      "\u001b[32m✔\u001b[39m \u001b[34mrecipes     \u001b[39m 1.0.1     \n",
      "\n",
      "── \u001b[1mConflicts\u001b[22m ───────────────────────────────────────── tidymodels_conflicts() ──\n",
      "\u001b[31m✖\u001b[39m \u001b[34mscales\u001b[39m::\u001b[32mdiscard()\u001b[39m masks \u001b[34mpurrr\u001b[39m::discard()\n",
      "\u001b[31m✖\u001b[39m \u001b[34mdplyr\u001b[39m::\u001b[32mfilter()\u001b[39m   masks \u001b[34mstats\u001b[39m::filter()\n",
      "\u001b[31m✖\u001b[39m \u001b[34mrecipes\u001b[39m::\u001b[32mfixed()\u001b[39m  masks \u001b[34mstringr\u001b[39m::fixed()\n",
      "\u001b[31m✖\u001b[39m \u001b[34mdplyr\u001b[39m::\u001b[32mlag()\u001b[39m      masks \u001b[34mstats\u001b[39m::lag()\n",
      "\u001b[31m✖\u001b[39m \u001b[34myardstick\u001b[39m::\u001b[32mspec()\u001b[39m masks \u001b[34mreadr\u001b[39m::spec()\n",
      "\u001b[31m✖\u001b[39m \u001b[34mrecipes\u001b[39m::\u001b[32mstep()\u001b[39m   masks \u001b[34mstats\u001b[39m::step()\n",
      "\u001b[34m•\u001b[39m Use \u001b[32mtidymodels_prefer()\u001b[39m to resolve common conflicts.\n",
      "\n"
     ]
    }
   ],
   "source": [
    "#1. Download libraries\n",
    "\n",
    "library(tidyverse)\n",
    "library(repr)\n",
    "library(tidymodels)\n",
    "library(infer)\n",
    "set.seed(1)"
   ]
  },
  {
   "cell_type": "code",
   "execution_count": 2,
   "id": "598fae04-f02a-445b-9c34-71b3fa88a3c6",
   "metadata": {},
   "outputs": [
    {
     "name": "stderr",
     "output_type": "stream",
     "text": [
      "\u001b[1mRows: \u001b[22m\u001b[34m17898\u001b[39m \u001b[1mColumns: \u001b[22m\u001b[34m9\u001b[39m\n",
      "\u001b[36m──\u001b[39m \u001b[1mColumn specification\u001b[22m \u001b[36m────────────────────────────────────────────────────────\u001b[39m\n",
      "\u001b[1mDelimiter:\u001b[22m \",\"\n",
      "\u001b[32mdbl\u001b[39m (9): X1, X2, X3, X4, X5, X6, X7, X8, X9\n",
      "\n",
      "\u001b[36mℹ\u001b[39m Use `spec()` to retrieve the full column specification for this data.\n",
      "\u001b[36mℹ\u001b[39m Specify the column types or set `show_col_types = FALSE` to quiet this message.\n"
     ]
    }
   ],
   "source": [
    "#2.Read in data Pulsar Star Data\n",
    "\n",
    "pulsar_star_data<-read_csv(\"https://raw.githubusercontent.com/madisongill/dsci-100-2023s-group-39-section-002/main/HTRU_2.csv\",col_names=FALSE)"
   ]
  },
  {
   "cell_type": "code",
   "execution_count": 3,
   "id": "8b27aed7-75db-4fe7-9483-d6d6c4f5cd36",
   "metadata": {},
   "outputs": [],
   "source": [
    "#3. Tidy data (add column names,condense if needed)(unbalanced unsplit)\n",
    "\n",
    "pulsar <- pulsar_star_data|>\n",
    "rename(mean=X1,\n",
    "       std_dev=X2,\n",
    "       kurt=X3,\n",
    "       skew=X4,\n",
    "       mean_dmsnr=X5,\n",
    "       std_dev_dmsnr=X6,\n",
    "       kurt_dmsnr=X7,\n",
    "       skew_dmsnr=X8,\n",
    "       class=X9) |>\n",
    "mutate(class = as_factor(class)) |>\n",
    "select(mean, std_dev, kurt, skew, class)"
   ]
  },
  {
   "cell_type": "markdown",
   "id": "144bf1a9-d5d5-41f4-9cb7-9ab775870951",
   "metadata": {},
   "source": [
    "<p>The Class variable has been converted to a factor because the corresponding observations are binary: pulsar or non-pulsar.</p>"
   ]
  },
  {
   "cell_type": "markdown",
   "id": "fe0ddf29-75c3-4e85-9b68-2f8b3b5365a3",
   "metadata": {},
   "source": [
    "### Class Imbalance"
   ]
  },
  {
   "cell_type": "code",
   "execution_count": 6,
   "id": "c6504635-5d82-48b6-82d1-3a8daf705bc5",
   "metadata": {},
   "outputs": [
    {
     "data": {
      "text/html": [
       "<table class=\"dataframe\">\n",
       "<caption>A tibble: 2 × 2</caption>\n",
       "<thead>\n",
       "\t<tr><th scope=col>class</th><th scope=col>count</th></tr>\n",
       "\t<tr><th scope=col>&lt;fct&gt;</th><th scope=col>&lt;int&gt;</th></tr>\n",
       "</thead>\n",
       "<tbody>\n",
       "\t<tr><td>0</td><td>16259</td></tr>\n",
       "\t<tr><td>1</td><td> 1639</td></tr>\n",
       "</tbody>\n",
       "</table>\n"
      ],
      "text/latex": [
       "A tibble: 2 × 2\n",
       "\\begin{tabular}{ll}\n",
       " class & count\\\\\n",
       " <fct> & <int>\\\\\n",
       "\\hline\n",
       "\t 0 & 16259\\\\\n",
       "\t 1 &  1639\\\\\n",
       "\\end{tabular}\n"
      ],
      "text/markdown": [
       "\n",
       "A tibble: 2 × 2\n",
       "\n",
       "| class &lt;fct&gt; | count &lt;int&gt; |\n",
       "|---|---|\n",
       "| 0 | 16259 |\n",
       "| 1 |  1639 |\n",
       "\n"
      ],
      "text/plain": [
       "  class count\n",
       "1 0     16259\n",
       "2 1      1639"
      ]
     },
     "metadata": {},
     "output_type": "display_data"
    }
   ],
   "source": [
    "class_count_unbalanced <- pulsar |> #summarize counts of class labels\n",
    "    group_by(class) |>\n",
    "    summarize(count = n())\n",
    "\n",
    "class_count_unbalanced"
   ]
  },
  {
   "cell_type": "code",
   "execution_count": 8,
   "id": "cffd8220-cfa3-4f9f-89a8-c3c4d1ba3b69",
   "metadata": {},
   "outputs": [
    {
     "data": {
      "image/png": "[encoded data removed]",
      "text/plain": [
       "plot without title"
      ]
     },
     "metadata": {
      "image/png": {
       "height": 420,
       "width": 420
      }
     },
     "output_type": "display_data"
    }
   ],
   "source": [
    "prop_plot <- class_count_unbalanced |> #bar graph to show proportions of classes (visual comparison)\n",
    "    ggplot(aes(x = class, y = count, fill = class)) +\n",
    "    geom_bar(stat = \"identity\") +\n",
    "    labs(x = \"Class\", y = \"Count\", fill = \"Class\") +\n",
    "    ggtitle(\"Counts of Non Pulsar and\\nPulsar Stars (Unbalanced/Unsplit)\")+\n",
    "    theme(text = element_text(size = 20)) +\n",
    "theme(plot.title = element_text(hjust = 0.5))\n",
    "\n",
    "\n",
    "\n",
    "\n",
    "prop_plot"
   ]
  },
  {
   "cell_type": "code",
   "execution_count": 11,
   "id": "9163e594-c9fe-4d5c-a2af-11add0867235",
   "metadata": {},
   "outputs": [
    {
     "data": {
      "text/html": [
       "<table class=\"dataframe\">\n",
       "<caption>A grouped_df: 2446 × 5</caption>\n",
       "<thead>\n",
       "\t<tr><th scope=col>mean</th><th scope=col>std_dev</th><th scope=col>kurt</th><th scope=col>skew</th><th scope=col>class</th></tr>\n",
       "\t<tr><th scope=col>&lt;dbl&gt;</th><th scope=col>&lt;dbl&gt;</th><th scope=col>&lt;dbl&gt;</th><th scope=col>&lt;dbl&gt;</th><th scope=col>&lt;fct&gt;</th></tr>\n",
       "</thead>\n",
       "<tbody>\n",
       "\t<tr><td>117.78125</td><td>48.83821</td><td> 0.21125793</td><td>-0.192518690</td><td>0</td></tr>\n",
       "\t<tr><td> 78.33594</td><td>40.27586</td><td> 0.75156387</td><td> 1.858023117</td><td>0</td></tr>\n",
       "\t<tr><td>152.76562</td><td>50.57999</td><td>-0.16609347</td><td>-0.038770396</td><td>0</td></tr>\n",
       "\t<tr><td>123.07812</td><td>49.09821</td><td> 0.11204322</td><td>-0.226149128</td><td>0</td></tr>\n",
       "\t<tr><td>135.16406</td><td>51.07880</td><td>-0.05214817</td><td>-0.057502208</td><td>0</td></tr>\n",
       "\t<tr><td> 96.16406</td><td>40.99557</td><td> 0.38420729</td><td> 0.714285426</td><td>0</td></tr>\n",
       "\t<tr><td>109.96875</td><td>49.82829</td><td> 0.43904129</td><td> 0.303314560</td><td>0</td></tr>\n",
       "\t<tr><td> 95.66406</td><td>47.60651</td><td> 0.53599405</td><td> 0.535184976</td><td>0</td></tr>\n",
       "\t<tr><td>113.23438</td><td>41.06806</td><td> 0.17078542</td><td> 0.620676630</td><td>0</td></tr>\n",
       "\t<tr><td>123.59375</td><td>48.37442</td><td> 0.02929928</td><td>-0.167461379</td><td>0</td></tr>\n",
       "\t<tr><td>118.14062</td><td>58.56216</td><td> 0.14826646</td><td>-0.804809152</td><td>0</td></tr>\n",
       "\t<tr><td>126.59375</td><td>44.03362</td><td> 0.39520188</td><td> 0.587599599</td><td>0</td></tr>\n",
       "\t<tr><td>126.33594</td><td>54.64534</td><td> 0.13046281</td><td>-0.468085686</td><td>0</td></tr>\n",
       "\t<tr><td>106.71875</td><td>53.79300</td><td> 0.46247434</td><td>-0.346987421</td><td>0</td></tr>\n",
       "\t<tr><td>143.14844</td><td>48.26815</td><td>-0.11462968</td><td> 0.092378534</td><td>0</td></tr>\n",
       "\t<tr><td>119.00781</td><td>52.09104</td><td> 0.21529353</td><td>-0.020228667</td><td>0</td></tr>\n",
       "\t<tr><td> 90.46875</td><td>44.16994</td><td> 0.68914329</td><td> 0.723386363</td><td>0</td></tr>\n",
       "\t<tr><td>112.67969</td><td>56.74861</td><td> 0.24365582</td><td>-0.612058856</td><td>0</td></tr>\n",
       "\t<tr><td>127.70312</td><td>48.82756</td><td>-0.02081076</td><td> 0.010693305</td><td>0</td></tr>\n",
       "\t<tr><td>126.42188</td><td>53.36426</td><td>-0.01515238</td><td>-0.466873959</td><td>0</td></tr>\n",
       "\t<tr><td>123.63281</td><td>53.16967</td><td> 0.22175968</td><td>-0.070387095</td><td>0</td></tr>\n",
       "\t<tr><td>145.92969</td><td>48.69680</td><td>-0.28353463</td><td> 0.025726685</td><td>0</td></tr>\n",
       "\t<tr><td>140.28125</td><td>53.34556</td><td>-0.10432250</td><td>-0.461195229</td><td>0</td></tr>\n",
       "\t<tr><td>121.91406</td><td>53.35656</td><td>-0.27644866</td><td>-0.407020074</td><td>0</td></tr>\n",
       "\t<tr><td>127.33594</td><td>42.58673</td><td> 0.02807062</td><td> 0.459271860</td><td>0</td></tr>\n",
       "\t<tr><td>109.37500</td><td>43.65687</td><td> 0.26340021</td><td> 0.350481266</td><td>0</td></tr>\n",
       "\t<tr><td>114.89844</td><td>43.00360</td><td>-0.05558173</td><td> 0.616193316</td><td>0</td></tr>\n",
       "\t<tr><td>129.13281</td><td>62.06151</td><td>-0.11705396</td><td>-0.808664804</td><td>0</td></tr>\n",
       "\t<tr><td>102.03906</td><td>50.01381</td><td> 0.31018603</td><td>-0.003708587</td><td>0</td></tr>\n",
       "\t<tr><td>145.45312</td><td>52.15989</td><td>-0.10537924</td><td>-0.254707355</td><td>0</td></tr>\n",
       "\t<tr><td>⋮</td><td>⋮</td><td>⋮</td><td>⋮</td><td>⋮</td></tr>\n",
       "\t<tr><td>112.453125</td><td>45.71222</td><td>0.1753636</td><td> 0.1262412</td><td>1</td></tr>\n",
       "\t<tr><td> 71.359375</td><td>39.08079</td><td>2.2876521</td><td> 7.8565062</td><td>1</td></tr>\n",
       "\t<tr><td> 80.351562</td><td>39.74481</td><td>1.1669118</td><td> 3.2351265</td><td>1</td></tr>\n",
       "\t<tr><td>106.554688</td><td>48.04536</td><td>0.7265551</td><td> 0.4997975</td><td>1</td></tr>\n",
       "\t<tr><td> 67.710938</td><td>36.26727</td><td>1.8255901</td><td> 6.5070338</td><td>1</td></tr>\n",
       "\t<tr><td> 36.031250</td><td>33.43252</td><td>4.2520958</td><td>21.2237428</td><td>1</td></tr>\n",
       "\t<tr><td>  8.351562</td><td>37.23628</td><td>5.0782548</td><td>25.8232859</td><td>1</td></tr>\n",
       "\t<tr><td> 69.203125</td><td>52.62802</td><td>1.7512458</td><td> 2.7490502</td><td>1</td></tr>\n",
       "\t<tr><td> 57.773438</td><td>41.51416</td><td>2.8389651</td><td> 9.8533505</td><td>1</td></tr>\n",
       "\t<tr><td>104.539062</td><td>44.01844</td><td>1.1985233</td><td> 2.2803035</td><td>1</td></tr>\n",
       "\t<tr><td> 29.843750</td><td>28.88432</td><td>5.0325625</td><td>32.1065428</td><td>1</td></tr>\n",
       "\t<tr><td> 55.343750</td><td>47.06452</td><td>2.2794984</td><td> 5.5154173</td><td>1</td></tr>\n",
       "\t<tr><td> 38.929688</td><td>29.96722</td><td>4.1072688</td><td>23.6449462</td><td>1</td></tr>\n",
       "\t<tr><td> 75.437500</td><td>38.48331</td><td>1.6245412</td><td> 5.2841759</td><td>1</td></tr>\n",
       "\t<tr><td>115.648438</td><td>57.50361</td><td>0.3986111</td><td>-0.3403525</td><td>1</td></tr>\n",
       "\t<tr><td> 45.546875</td><td>30.90304</td><td>3.6454958</td><td>19.4992463</td><td>1</td></tr>\n",
       "\t<tr><td> 47.890625</td><td>32.21952</td><td>3.4759471</td><td>16.6531931</td><td>1</td></tr>\n",
       "\t<tr><td> 92.890625</td><td>50.00066</td><td>1.4097378</td><td> 1.9646457</td><td>1</td></tr>\n",
       "\t<tr><td> 54.742188</td><td>32.33763</td><td>3.3450383</td><td>16.4848702</td><td>1</td></tr>\n",
       "\t<tr><td> 62.406250</td><td>42.81746</td><td>2.0051633</td><td> 6.3557529</td><td>1</td></tr>\n",
       "\t<tr><td> 47.750000</td><td>32.25896</td><td>3.4319304</td><td>17.4669145</td><td>1</td></tr>\n",
       "\t<tr><td> 67.046875</td><td>45.91719</td><td>2.0711214</td><td> 5.0081096</td><td>1</td></tr>\n",
       "\t<tr><td> 65.781250</td><td>45.98946</td><td>2.5732238</td><td> 7.6958315</td><td>1</td></tr>\n",
       "\t<tr><td>  8.242188</td><td>31.03495</td><td>7.0057394</td><td>49.6722406</td><td>1</td></tr>\n",
       "\t<tr><td> 96.421875</td><td>55.19392</td><td>0.8681889</td><td> 0.3664627</td><td>1</td></tr>\n",
       "\t<tr><td> 96.687500</td><td>38.94181</td><td>0.6883688</td><td> 2.5094353</td><td>1</td></tr>\n",
       "\t<tr><td> 42.765625</td><td>41.03952</td><td>2.3286996</td><td> 5.9571392</td><td>1</td></tr>\n",
       "\t<tr><td> 62.656250</td><td>38.24355</td><td>2.9689528</td><td>10.9881380</td><td>1</td></tr>\n",
       "\t<tr><td>103.859375</td><td>35.46427</td><td>1.3967082</td><td> 4.7158233</td><td>1</td></tr>\n",
       "\t<tr><td> 18.601562</td><td>30.35862</td><td>5.3919221</td><td>32.9303332</td><td>1</td></tr>\n",
       "</tbody>\n",
       "</table>\n"
      ],
      "text/latex": [
       "A grouped\\_df: 2446 × 5\n",
       "\\begin{tabular}{lllll}\n",
       " mean & std\\_dev & kurt & skew & class\\\\\n",
       " <dbl> & <dbl> & <dbl> & <dbl> & <fct>\\\\\n",
       "\\hline\n",
       "\t 117.78125 & 48.83821 &  0.21125793 & -0.192518690 & 0\\\\\n",
       "\t  78.33594 & 40.27586 &  0.75156387 &  1.858023117 & 0\\\\\n",
       "\t 152.76562 & 50.57999 & -0.16609347 & -0.038770396 & 0\\\\\n",
       "\t 123.07812 & 49.09821 &  0.11204322 & -0.226149128 & 0\\\\\n",
       "\t 135.16406 & 51.07880 & -0.05214817 & -0.057502208 & 0\\\\\n",
       "\t  96.16406 & 40.99557 &  0.38420729 &  0.714285426 & 0\\\\\n",
       "\t 109.96875 & 49.82829 &  0.43904129 &  0.303314560 & 0\\\\\n",
       "\t  95.66406 & 47.60651 &  0.53599405 &  0.535184976 & 0\\\\\n",
       "\t 113.23438 & 41.06806 &  0.17078542 &  0.620676630 & 0\\\\\n",
       "\t 123.59375 & 48.37442 &  0.02929928 & -0.167461379 & 0\\\\\n",
       "\t 118.14062 & 58.56216 &  0.14826646 & -0.804809152 & 0\\\\\n",
       "\t 126.59375 & 44.03362 &  0.39520188 &  0.587599599 & 0\\\\\n",
       "\t 126.33594 & 54.64534 &  0.13046281 & -0.468085686 & 0\\\\\n",
       "\t 106.71875 & 53.79300 &  0.46247434 & -0.346987421 & 0\\\\\n",
       "\t 143.14844 & 48.26815 & -0.11462968 &  0.092378534 & 0\\\\\n",
       "\t 119.00781 & 52.09104 &  0.21529353 & -0.020228667 & 0\\\\\n",
       "\t  90.46875 & 44.16994 &  0.68914329 &  0.723386363 & 0\\\\\n",
       "\t 112.67969 & 56.74861 &  0.24365582 & -0.612058856 & 0\\\\\n",
       "\t 127.70312 & 48.82756 & -0.02081076 &  0.010693305 & 0\\\\\n",
       "\t 126.42188 & 53.36426 & -0.01515238 & -0.466873959 & 0\\\\\n",
       "\t 123.63281 & 53.16967 &  0.22175968 & -0.070387095 & 0\\\\\n",
       "\t 145.92969 & 48.69680 & -0.28353463 &  0.025726685 & 0\\\\\n",
       "\t 140.28125 & 53.34556 & -0.10432250 & -0.461195229 & 0\\\\\n",
       "\t 121.91406 & 53.35656 & -0.27644866 & -0.407020074 & 0\\\\\n",
       "\t 127.33594 & 42.58673 &  0.02807062 &  0.459271860 & 0\\\\\n",
       "\t 109.37500 & 43.65687 &  0.26340021 &  0.350481266 & 0\\\\\n",
       "\t 114.89844 & 43.00360 & -0.05558173 &  0.616193316 & 0\\\\\n",
       "\t 129.13281 & 62.06151 & -0.11705396 & -0.808664804 & 0\\\\\n",
       "\t 102.03906 & 50.01381 &  0.31018603 & -0.003708587 & 0\\\\\n",
       "\t 145.45312 & 52.15989 & -0.10537924 & -0.254707355 & 0\\\\\n",
       "\t ⋮ & ⋮ & ⋮ & ⋮ & ⋮\\\\\n",
       "\t 112.453125 & 45.71222 & 0.1753636 &  0.1262412 & 1\\\\\n",
       "\t  71.359375 & 39.08079 & 2.2876521 &  7.8565062 & 1\\\\\n",
       "\t  80.351562 & 39.74481 & 1.1669118 &  3.2351265 & 1\\\\\n",
       "\t 106.554688 & 48.04536 & 0.7265551 &  0.4997975 & 1\\\\\n",
       "\t  67.710938 & 36.26727 & 1.8255901 &  6.5070338 & 1\\\\\n",
       "\t  36.031250 & 33.43252 & 4.2520958 & 21.2237428 & 1\\\\\n",
       "\t   8.351562 & 37.23628 & 5.0782548 & 25.8232859 & 1\\\\\n",
       "\t  69.203125 & 52.62802 & 1.7512458 &  2.7490502 & 1\\\\\n",
       "\t  57.773438 & 41.51416 & 2.8389651 &  9.8533505 & 1\\\\\n",
       "\t 104.539062 & 44.01844 & 1.1985233 &  2.2803035 & 1\\\\\n",
       "\t  29.843750 & 28.88432 & 5.0325625 & 32.1065428 & 1\\\\\n",
       "\t  55.343750 & 47.06452 & 2.2794984 &  5.5154173 & 1\\\\\n",
       "\t  38.929688 & 29.96722 & 4.1072688 & 23.6449462 & 1\\\\\n",
       "\t  75.437500 & 38.48331 & 1.6245412 &  5.2841759 & 1\\\\\n",
       "\t 115.648438 & 57.50361 & 0.3986111 & -0.3403525 & 1\\\\\n",
       "\t  45.546875 & 30.90304 & 3.6454958 & 19.4992463 & 1\\\\\n",
       "\t  47.890625 & 32.21952 & 3.4759471 & 16.6531931 & 1\\\\\n",
       "\t  92.890625 & 50.00066 & 1.4097378 &  1.9646457 & 1\\\\\n",
       "\t  54.742188 & 32.33763 & 3.3450383 & 16.4848702 & 1\\\\\n",
       "\t  62.406250 & 42.81746 & 2.0051633 &  6.3557529 & 1\\\\\n",
       "\t  47.750000 & 32.25896 & 3.4319304 & 17.4669145 & 1\\\\\n",
       "\t  67.046875 & 45.91719 & 2.0711214 &  5.0081096 & 1\\\\\n",
       "\t  65.781250 & 45.98946 & 2.5732238 &  7.6958315 & 1\\\\\n",
       "\t   8.242188 & 31.03495 & 7.0057394 & 49.6722406 & 1\\\\\n",
       "\t  96.421875 & 55.19392 & 0.8681889 &  0.3664627 & 1\\\\\n",
       "\t  96.687500 & 38.94181 & 0.6883688 &  2.5094353 & 1\\\\\n",
       "\t  42.765625 & 41.03952 & 2.3286996 &  5.9571392 & 1\\\\\n",
       "\t  62.656250 & 38.24355 & 2.9689528 & 10.9881380 & 1\\\\\n",
       "\t 103.859375 & 35.46427 & 1.3967082 &  4.7158233 & 1\\\\\n",
       "\t  18.601562 & 30.35862 & 5.3919221 & 32.9303332 & 1\\\\\n",
       "\\end{tabular}\n"
      ],
      "text/markdown": [
       "\n",
       "A grouped_df: 2446 × 5\n",
       "\n",
       "| mean &lt;dbl&gt; | std_dev &lt;dbl&gt; | kurt &lt;dbl&gt; | skew &lt;dbl&gt; | class &lt;fct&gt; |\n",
       "|---|---|---|---|---|\n",
       "| 117.78125 | 48.83821 |  0.21125793 | -0.192518690 | 0 |\n",
       "|  78.33594 | 40.27586 |  0.75156387 |  1.858023117 | 0 |\n",
       "| 152.76562 | 50.57999 | -0.16609347 | -0.038770396 | 0 |\n",
       "| 123.07812 | 49.09821 |  0.11204322 | -0.226149128 | 0 |\n",
       "| 135.16406 | 51.07880 | -0.05214817 | -0.057502208 | 0 |\n",
       "|  96.16406 | 40.99557 |  0.38420729 |  0.714285426 | 0 |\n",
       "| 109.96875 | 49.82829 |  0.43904129 |  0.303314560 | 0 |\n",
       "|  95.66406 | 47.60651 |  0.53599405 |  0.535184976 | 0 |\n",
       "| 113.23438 | 41.06806 |  0.17078542 |  0.620676630 | 0 |\n",
       "| 123.59375 | 48.37442 |  0.02929928 | -0.167461379 | 0 |\n",
       "| 118.14062 | 58.56216 |  0.14826646 | -0.804809152 | 0 |\n",
       "| 126.59375 | 44.03362 |  0.39520188 |  0.587599599 | 0 |\n",
       "| 126.33594 | 54.64534 |  0.13046281 | -0.468085686 | 0 |\n",
       "| 106.71875 | 53.79300 |  0.46247434 | -0.346987421 | 0 |\n",
       "| 143.14844 | 48.26815 | -0.11462968 |  0.092378534 | 0 |\n",
       "| 119.00781 | 52.09104 |  0.21529353 | -0.020228667 | 0 |\n",
       "|  90.46875 | 44.16994 |  0.68914329 |  0.723386363 | 0 |\n",
       "| 112.67969 | 56.74861 |  0.24365582 | -0.612058856 | 0 |\n",
       "| 127.70312 | 48.82756 | -0.02081076 |  0.010693305 | 0 |\n",
       "| 126.42188 | 53.36426 | -0.01515238 | -0.466873959 | 0 |\n",
       "| 123.63281 | 53.16967 |  0.22175968 | -0.070387095 | 0 |\n",
       "| 145.92969 | 48.69680 | -0.28353463 |  0.025726685 | 0 |\n",
       "| 140.28125 | 53.34556 | -0.10432250 | -0.461195229 | 0 |\n",
       "| 121.91406 | 53.35656 | -0.27644866 | -0.407020074 | 0 |\n",
       "| 127.33594 | 42.58673 |  0.02807062 |  0.459271860 | 0 |\n",
       "| 109.37500 | 43.65687 |  0.26340021 |  0.350481266 | 0 |\n",
       "| 114.89844 | 43.00360 | -0.05558173 |  0.616193316 | 0 |\n",
       "| 129.13281 | 62.06151 | -0.11705396 | -0.808664804 | 0 |\n",
       "| 102.03906 | 50.01381 |  0.31018603 | -0.003708587 | 0 |\n",
       "| 145.45312 | 52.15989 | -0.10537924 | -0.254707355 | 0 |\n",
       "| ⋮ | ⋮ | ⋮ | ⋮ | ⋮ |\n",
       "| 112.453125 | 45.71222 | 0.1753636 |  0.1262412 | 1 |\n",
       "|  71.359375 | 39.08079 | 2.2876521 |  7.8565062 | 1 |\n",
       "|  80.351562 | 39.74481 | 1.1669118 |  3.2351265 | 1 |\n",
       "| 106.554688 | 48.04536 | 0.7265551 |  0.4997975 | 1 |\n",
       "|  67.710938 | 36.26727 | 1.8255901 |  6.5070338 | 1 |\n",
       "|  36.031250 | 33.43252 | 4.2520958 | 21.2237428 | 1 |\n",
       "|   8.351562 | 37.23628 | 5.0782548 | 25.8232859 | 1 |\n",
       "|  69.203125 | 52.62802 | 1.7512458 |  2.7490502 | 1 |\n",
       "|  57.773438 | 41.51416 | 2.8389651 |  9.8533505 | 1 |\n",
       "| 104.539062 | 44.01844 | 1.1985233 |  2.2803035 | 1 |\n",
       "|  29.843750 | 28.88432 | 5.0325625 | 32.1065428 | 1 |\n",
       "|  55.343750 | 47.06452 | 2.2794984 |  5.5154173 | 1 |\n",
       "|  38.929688 | 29.96722 | 4.1072688 | 23.6449462 | 1 |\n",
       "|  75.437500 | 38.48331 | 1.6245412 |  5.2841759 | 1 |\n",
       "| 115.648438 | 57.50361 | 0.3986111 | -0.3403525 | 1 |\n",
       "|  45.546875 | 30.90304 | 3.6454958 | 19.4992463 | 1 |\n",
       "|  47.890625 | 32.21952 | 3.4759471 | 16.6531931 | 1 |\n",
       "|  92.890625 | 50.00066 | 1.4097378 |  1.9646457 | 1 |\n",
       "|  54.742188 | 32.33763 | 3.3450383 | 16.4848702 | 1 |\n",
       "|  62.406250 | 42.81746 | 2.0051633 |  6.3557529 | 1 |\n",
       "|  47.750000 | 32.25896 | 3.4319304 | 17.4669145 | 1 |\n",
       "|  67.046875 | 45.91719 | 2.0711214 |  5.0081096 | 1 |\n",
       "|  65.781250 | 45.98946 | 2.5732238 |  7.6958315 | 1 |\n",
       "|   8.242188 | 31.03495 | 7.0057394 | 49.6722406 | 1 |\n",
       "|  96.421875 | 55.19392 | 0.8681889 |  0.3664627 | 1 |\n",
       "|  96.687500 | 38.94181 | 0.6883688 |  2.5094353 | 1 |\n",
       "|  42.765625 | 41.03952 | 2.3286996 |  5.9571392 | 1 |\n",
       "|  62.656250 | 38.24355 | 2.9689528 | 10.9881380 | 1 |\n",
       "| 103.859375 | 35.46427 | 1.3967082 |  4.7158233 | 1 |\n",
       "|  18.601562 | 30.35862 | 5.3919221 | 32.9303332 | 1 |\n",
       "\n"
      ],
      "text/plain": [
       "     mean       std_dev  kurt        skew         class\n",
       "1    117.78125  48.83821  0.21125793 -0.192518690 0    \n",
       "2     78.33594  40.27586  0.75156387  1.858023117 0    \n",
       "3    152.76562  50.57999 -0.16609347 -0.038770396 0    \n",
       "4    123.07812  49.09821  0.11204322 -0.226149128 0    \n",
       "5    135.16406  51.07880 -0.05214817 -0.057502208 0    \n",
       "6     96.16406  40.99557  0.38420729  0.714285426 0    \n",
       "7    109.96875  49.82829  0.43904129  0.303314560 0    \n",
       "8     95.66406  47.60651  0.53599405  0.535184976 0    \n",
       "9    113.23438  41.06806  0.17078542  0.620676630 0    \n",
       "10   123.59375  48.37442  0.02929928 -0.167461379 0    \n",
       "11   118.14062  58.56216  0.14826646 -0.804809152 0    \n",
       "12   126.59375  44.03362  0.39520188  0.587599599 0    \n",
       "13   126.33594  54.64534  0.13046281 -0.468085686 0    \n",
       "14   106.71875  53.79300  0.46247434 -0.346987421 0    \n",
       "15   143.14844  48.26815 -0.11462968  0.092378534 0    \n",
       "16   119.00781  52.09104  0.21529353 -0.020228667 0    \n",
       "17    90.46875  44.16994  0.68914329  0.723386363 0    \n",
       "18   112.67969  56.74861  0.24365582 -0.612058856 0    \n",
       "19   127.70312  48.82756 -0.02081076  0.010693305 0    \n",
       "20   126.42188  53.36426 -0.01515238 -0.466873959 0    \n",
       "21   123.63281  53.16967  0.22175968 -0.070387095 0    \n",
       "22   145.92969  48.69680 -0.28353463  0.025726685 0    \n",
       "23   140.28125  53.34556 -0.10432250 -0.461195229 0    \n",
       "24   121.91406  53.35656 -0.27644866 -0.407020074 0    \n",
       "25   127.33594  42.58673  0.02807062  0.459271860 0    \n",
       "26   109.37500  43.65687  0.26340021  0.350481266 0    \n",
       "27   114.89844  43.00360 -0.05558173  0.616193316 0    \n",
       "28   129.13281  62.06151 -0.11705396 -0.808664804 0    \n",
       "29   102.03906  50.01381  0.31018603 -0.003708587 0    \n",
       "30   145.45312  52.15989 -0.10537924 -0.254707355 0    \n",
       "⋮    ⋮          ⋮        ⋮           ⋮            ⋮    \n",
       "2417 112.453125 45.71222 0.1753636    0.1262412   1    \n",
       "2418  71.359375 39.08079 2.2876521    7.8565062   1    \n",
       "2419  80.351562 39.74481 1.1669118    3.2351265   1    \n",
       "2420 106.554688 48.04536 0.7265551    0.4997975   1    \n",
       "2421  67.710938 36.26727 1.8255901    6.5070338   1    \n",
       "2422  36.031250 33.43252 4.2520958   21.2237428   1    \n",
       "2423   8.351562 37.23628 5.0782548   25.8232859   1    \n",
       "2424  69.203125 52.62802 1.7512458    2.7490502   1    \n",
       "2425  57.773438 41.51416 2.8389651    9.8533505   1    \n",
       "2426 104.539062 44.01844 1.1985233    2.2803035   1    \n",
       "2427  29.843750 28.88432 5.0325625   32.1065428   1    \n",
       "2428  55.343750 47.06452 2.2794984    5.5154173   1    \n",
       "2429  38.929688 29.96722 4.1072688   23.6449462   1    \n",
       "2430  75.437500 38.48331 1.6245412    5.2841759   1    \n",
       "2431 115.648438 57.50361 0.3986111   -0.3403525   1    \n",
       "2432  45.546875 30.90304 3.6454958   19.4992463   1    \n",
       "2433  47.890625 32.21952 3.4759471   16.6531931   1    \n",
       "2434  92.890625 50.00066 1.4097378    1.9646457   1    \n",
       "2435  54.742188 32.33763 3.3450383   16.4848702   1    \n",
       "2436  62.406250 42.81746 2.0051633    6.3557529   1    \n",
       "2437  47.750000 32.25896 3.4319304   17.4669145   1    \n",
       "2438  67.046875 45.91719 2.0711214    5.0081096   1    \n",
       "2439  65.781250 45.98946 2.5732238    7.6958315   1    \n",
       "2440   8.242188 31.03495 7.0057394   49.6722406   1    \n",
       "2441  96.421875 55.19392 0.8681889    0.3664627   1    \n",
       "2442  96.687500 38.94181 0.6883688    2.5094353   1    \n",
       "2443  42.765625 41.03952 2.3286996    5.9571392   1    \n",
       "2444  62.656250 38.24355 2.9689528   10.9881380   1    \n",
       "2445 103.859375 35.46427 1.3967082    4.7158233   1    \n",
       "2446  18.601562 30.35862 5.3919221   32.9303332   1    "
      ]
     },
     "metadata": {},
     "output_type": "display_data"
    }
   ],
   "source": [
    "#balanced, unsplit\n",
    "pulsar_balanced <- pulsar |> \n",
    "    group_by(class) |>\n",
    "    sample_n(1223)\n",
    "\n",
    "pulsar_balanced"
   ]
  },
  {
   "cell_type": "code",
   "execution_count": 12,
   "id": "6b71a0ff-a866-400d-aa55-beaa7a4df086",
   "metadata": {},
   "outputs": [],
   "source": [
    "#4.Split data into training and test set\n",
    "\n",
    "#balanced, split\n",
    "pulsar_split<-initial_split(pulsar_balanced,prop=0.75,strata=class)\n",
    "pulsar_train<-training(pulsar_split)\n",
    "pulsar_test<-testing(pulsar_split)\n",
    "\n",
    "#demonstrate data was split\n",
    "train<-nrow(pulsar_train)\n",
    "\n",
    "split<-nrow(pulsar_balanced)\n",
    "\n",
    "percentage_train_data<-train/split*100\n",
    "\n",
    "test<-nrow(pulsar_test)\n",
    "\n",
    "percentage_test_data<-test/split*100\n"
   ]
  },
  {
   "cell_type": "markdown",
   "id": "47dccea5-db1e-4d80-bd22-b0a63dbf9297",
   "metadata": {},
   "source": [
    "#### Summary"
   ]
  },
  {
   "cell_type": "markdown",
   "id": "0627fa35-679c-4a8f-8199-09880e103172",
   "metadata": {},
   "source": [
    "The next code cell reduces the columns and summarizes their values. The count and proportion of each Class, average and standard deviation of each variable, and a count of missing values are shown."
   ]
  },
  {
   "cell_type": "code",
   "execution_count": 14,
   "id": "bb701acc-8de7-4e65-b7b0-0b1c2f4b6435",
   "metadata": {},
   "outputs": [
    {
     "name": "stderr",
     "output_type": "stream",
     "text": [
      "\u001b[1m\u001b[22mAdding missing grouping variables: `class`\n",
      "Warning message in mean.default(.x[[i]], ...):\n",
      "“argument is not numeric or logical: returning NA”\n",
      "\u001b[1m\u001b[22mAdding missing grouping variables: `class`\n"
     ]
    },
    {
     "data": {
      "text/html": [
       "<table class=\"dataframe\">\n",
       "<caption>A tibble: 1 × 6</caption>\n",
       "<thead>\n",
       "\t<tr><th scope=col>missing_vals</th><th scope=col>class</th><th scope=col>mean_avg</th><th scope=col>std_dev_avg</th><th scope=col>kurt_avg</th><th scope=col>skew_avg</th></tr>\n",
       "\t<tr><th scope=col>&lt;int&gt;</th><th scope=col>&lt;dbl&gt;</th><th scope=col>&lt;dbl&gt;</th><th scope=col>&lt;dbl&gt;</th><th scope=col>&lt;dbl&gt;</th><th scope=col>&lt;dbl&gt;</th></tr>\n",
       "</thead>\n",
       "<tbody>\n",
       "\t<tr><td>0</td><td>NA</td><td>86.2707</td><td>43.02063</td><td>1.673577</td><td>7.90833</td></tr>\n",
       "</tbody>\n",
       "</table>\n"
      ],
      "text/latex": [
       "A tibble: 1 × 6\n",
       "\\begin{tabular}{llllll}\n",
       " missing\\_vals & class & mean\\_avg & std\\_dev\\_avg & kurt\\_avg & skew\\_avg\\\\\n",
       " <int> & <dbl> & <dbl> & <dbl> & <dbl> & <dbl>\\\\\n",
       "\\hline\n",
       "\t 0 & NA & 86.2707 & 43.02063 & 1.673577 & 7.90833\\\\\n",
       "\\end{tabular}\n"
      ],
      "text/markdown": [
       "\n",
       "A tibble: 1 × 6\n",
       "\n",
       "| missing_vals &lt;int&gt; | class &lt;dbl&gt; | mean_avg &lt;dbl&gt; | std_dev_avg &lt;dbl&gt; | kurt_avg &lt;dbl&gt; | skew_avg &lt;dbl&gt; |\n",
       "|---|---|---|---|---|---|\n",
       "| 0 | NA | 86.2707 | 43.02063 | 1.673577 | 7.90833 |\n",
       "\n"
      ],
      "text/plain": [
       "  missing_vals class mean_avg std_dev_avg kurt_avg skew_avg\n",
       "1 0            NA    86.2707  43.02063    1.673577 7.90833 "
      ]
     },
     "metadata": {},
     "output_type": "display_data"
    },
    {
     "data": {
      "text/html": [
       "<table class=\"dataframe\">\n",
       "<caption>A grouped_df: 2 × 5</caption>\n",
       "<thead>\n",
       "\t<tr><th scope=col>class</th><th scope=col>mean_sd</th><th scope=col>std_dev_sd</th><th scope=col>kurt_sd</th><th scope=col>skew_sd</th></tr>\n",
       "\t<tr><th scope=col>&lt;fct&gt;</th><th scope=col>&lt;dbl&gt;</th><th scope=col>&lt;dbl&gt;</th><th scope=col>&lt;dbl&gt;</th><th scope=col>&lt;dbl&gt;</th></tr>\n",
       "</thead>\n",
       "<tbody>\n",
       "\t<tr><td>0</td><td>17.34183</td><td>6.501713</td><td>0.3213582</td><td> 0.9476675</td></tr>\n",
       "\t<tr><td>1</td><td>29.48453</td><td>7.690089</td><td>1.8416636</td><td>13.7719227</td></tr>\n",
       "</tbody>\n",
       "</table>\n"
      ],
      "text/latex": [
       "A grouped\\_df: 2 × 5\n",
       "\\begin{tabular}{lllll}\n",
       " class & mean\\_sd & std\\_dev\\_sd & kurt\\_sd & skew\\_sd\\\\\n",
       " <fct> & <dbl> & <dbl> & <dbl> & <dbl>\\\\\n",
       "\\hline\n",
       "\t 0 & 17.34183 & 6.501713 & 0.3213582 &  0.9476675\\\\\n",
       "\t 1 & 29.48453 & 7.690089 & 1.8416636 & 13.7719227\\\\\n",
       "\\end{tabular}\n"
      ],
      "text/markdown": [
       "\n",
       "A grouped_df: 2 × 5\n",
       "\n",
       "| class &lt;fct&gt; | mean_sd &lt;dbl&gt; | std_dev_sd &lt;dbl&gt; | kurt_sd &lt;dbl&gt; | skew_sd &lt;dbl&gt; |\n",
       "|---|---|---|---|---|\n",
       "| 0 | 17.34183 | 6.501713 | 0.3213582 |  0.9476675 |\n",
       "| 1 | 29.48453 | 7.690089 | 1.8416636 | 13.7719227 |\n",
       "\n"
      ],
      "text/plain": [
       "  class mean_sd  std_dev_sd kurt_sd   skew_sd   \n",
       "1 0     17.34183 6.501713   0.3213582  0.9476675\n",
       "2 1     29.48453 7.690089   1.8416636 13.7719227"
      ]
     },
     "metadata": {},
     "output_type": "display_data"
    },
    {
     "data": {
      "text/html": [
       "<table class=\"dataframe\">\n",
       "<caption>A tibble: 2 × 3</caption>\n",
       "<thead>\n",
       "\t<tr><th scope=col>class</th><th scope=col>count</th><th scope=col>percent_of_train</th></tr>\n",
       "\t<tr><th scope=col>&lt;fct&gt;</th><th scope=col>&lt;int&gt;</th><th scope=col>&lt;dbl&gt;</th></tr>\n",
       "</thead>\n",
       "<tbody>\n",
       "\t<tr><td>0</td><td>917</td><td>50</td></tr>\n",
       "\t<tr><td>1</td><td>917</td><td>50</td></tr>\n",
       "</tbody>\n",
       "</table>\n"
      ],
      "text/latex": [
       "A tibble: 2 × 3\n",
       "\\begin{tabular}{lll}\n",
       " class & count & percent\\_of\\_train\\\\\n",
       " <fct> & <int> & <dbl>\\\\\n",
       "\\hline\n",
       "\t 0 & 917 & 50\\\\\n",
       "\t 1 & 917 & 50\\\\\n",
       "\\end{tabular}\n"
      ],
      "text/markdown": [
       "\n",
       "A tibble: 2 × 3\n",
       "\n",
       "| class &lt;fct&gt; | count &lt;int&gt; | percent_of_train &lt;dbl&gt; |\n",
       "|---|---|---|\n",
       "| 0 | 917 | 50 |\n",
       "| 1 | 917 | 50 |\n",
       "\n"
      ],
      "text/plain": [
       "  class count percent_of_train\n",
       "1 0     917   50              \n",
       "2 1     917   50              "
      ]
     },
     "metadata": {},
     "output_type": "display_data"
    }
   ],
   "source": [
    "number_obs<-nrow(pulsar_train)\n",
    "\n",
    "class_count_balanced <- pulsar_train |> #summarize counts of class labels\n",
    "    group_by(class) |>\n",
    "    summarize(count = n(),\n",
    "            percent_of_train=n()/number_obs*100) #percentage of pulsar vs non pulsar\n",
    "\n",
    "summary_train <- pulsar_train |> #the average of all the predictor variables\n",
    "    select(-class) |>\n",
    "    map_df(mean) |>\n",
    "    rename(mean_avg = mean,\n",
    "           std_dev_avg = std_dev, \n",
    "           kurt_avg = kurt,\n",
    "           skew_avg = skew)\n",
    "\n",
    "means_and_counts<- as_tibble(sum(is.na(pulsar_train))) |> #checking for na values\n",
    "    rename(missing_vals = value) |>\n",
    "    bind_cols(summary_train)  #combine summary_train and missing values check into one\n",
    "\n",
    "standard_dev <- pulsar_train |> #the standard deviation of all predictor variables, #found the sd function (5)\n",
    "                    mutate(mean_sd = sd(mean),\n",
    "                       std_dev_sd = sd(std_dev),\n",
    "                       kurt_sd = sd(kurt),\n",
    "                       skew_sd = sd(skew))|>\n",
    "                    slice(1)|>\n",
    "                    select(mean_sd,std_dev_sd,kurt_sd,skew_sd)\n",
    "\n",
    "\n",
    "    \n",
    "\n",
    "means_and_counts\n",
    "standard_dev\n",
    "class_count_balanced"
   ]
  },
  {
   "cell_type": "markdown",
   "id": "0a60d51c-0bcb-4a72-9151-372f3a3cb463",
   "metadata": {},
   "source": [
    "#### Visualization"
   ]
  },
  {
   "cell_type": "markdown",
   "id": "e1a66e63-eaaa-4ff9-9139-d1807fa7604b",
   "metadata": {},
   "source": [
    "The plot is an example of using the variables to determine Class. From the IPP variables, a relationship can be seen between the excess kurtosis and mean. It appears to be a strong, negative, non-linear relationship."
   ]
  },
  {
   "cell_type": "code",
   "execution_count": null,
   "id": "8c4c9f4f-4ccf-4d1f-9ef7-ed5cc93e1bd9",
   "metadata": {},
   "outputs": [],
   "source": [
    "options(repr.plot.width = 10, repr.plot.height = 10)\n",
    "\n",
    "pulsar_star_graph <- pulsar_train |>\n",
    "ggplot(aes(x = mean, y = kurt, color = class)) +\n",
    "geom_point(alpha = 0.4) +\n",
    "\n",
    "labs(x = \"Mean of the Integrated Profile\", y = \"Excess kurtosis of \\nthe Integrated Profile\", color = \"Class\") +\n",
    "scale_color_manual(labels = c(\"Non-pulsar\", \"Pulsar\"),\n",
    "                   values = c(\"orange\", \"steel blue\")) +\n",
    "ggtitle(\"Determining Class from Mean and Excess\\n Kurtosis of Integrated Profile\")+\n",
    "theme(plot.title = element_text(hjust = 0.5))+\n",
    "theme(text = element_text(size = 20))\n",
    "\n",
    "pulsar_star_graph"
   ]
  },
  {
   "cell_type": "markdown",
   "id": "5951fa33-ac6f-4d5e-bb73-9350151a23da",
   "metadata": {},
   "source": [
    "\n",
    "\n",
    "\n",
    "\n",
    "    \n"
   ]
  },
  {
   "cell_type": "markdown",
   "id": "932889a1-254b-4eb1-bfe9-646777608c49",
   "metadata": {},
   "source": [
    "## Methods"
   ]
  },
  {
   "cell_type": "markdown",
   "id": "94587be7-01a2-49bb-91f1-05693967a173",
   "metadata": {},
   "source": [
    "The Class will be determined using four variables. Since the IPP alone can determine whether a star is pulsar or non-pulsar, columns related to the DM-SNR curve will be excluded through selecting the mean, standard deviation, kurtosis, and skewness of the IPP.\n",
    "\n",
    "To ensure the model can be tested, the dataset will first be split into a training and testing set. The variables will be scaled, class imbalance will be fixed. A classification model, using cross-validation, will be created using $k$ nearest neighbors to predict the star type.\n",
    "\n",
    "The results will be visualized by plotting estimated accuracy against neighbors to show the ideal $k$ value to use. A bar graph containing true positives, false positives, true negatives, and false negatives will be added to highlight the accuracy of the model."
   ]
  },
  {
   "cell_type": "markdown",
   "id": "fadceca6-e41d-4922-b9b5-8ad664f7742d",
   "metadata": {},
   "source": [
    "## Significance"
   ]
  },
  {
   "cell_type": "markdown",
   "id": "31bf0bd2-e2b6-47fb-bdb0-9a8014994eb9",
   "metadata": {},
   "source": [
    "<p>The expected outcome is a highly accurate model which predicts the stars’ type. Each IPP of a star is unique, acting as a fingerprint, so the model can determine the star type while trained solely on the IPP variables.\n",
    "If the model is successful, then only the IPP variables are important in identifying the stars, rather than the DM-SNR curve. This analysis can help with answering future questions such as:</p> \n",
    "\n",
    "<p style=\"text-align: center;\"><b>Which factors are effective predictors of star type?<b> </p>\n",
    "<p style=\"text-align: center;\"><b>Is this relationship between predictor variables applicable to other space phenomena?<b> </p>\n",
    "<p style=\"text-align: center;\"><b>Would using DM-SNR variables improve the model’s accuracy?<b> </p>\n",
    "    \n",
    "\n",
    "\n"
   ]
  },
  {
   "cell_type": "markdown",
   "id": "4d0069c8-c290-4437-9c79-439d987438a3",
   "metadata": {},
   "source": [
    "## References"
   ]
  },
  {
   "cell_type": "markdown",
   "id": "8baea232-3c05-4e7e-890d-90b663cf32b5",
   "metadata": {},
   "source": [
    "1.https://archive.ics.uci.edu/dataset/372/htru2\n",
    "\n",
    "2.https://www.space.com/32661-pulsars.html#:~:text=Pulsars%20have%20been%20used%20to,first%20time%20in%20February%202016\n",
    "\n",
    "\n",
    "3.https://www.kaggle.com/datasets/charitarth/pulsar-dataset-htru2\n",
    "\n",
    "4.https://www.investopedia.com/terms/e/excesskurtosis.asp#:~:text=Excess%20kurtosis%20means%20the%20distribution,by%20subtracting%20kurtosis%20by%20three.\n",
    "\n",
    "5.https://www.digitalocean.com/community/tutorials/find-standard-deviation-in-r#:~:text=R%20is%20easy.-,R%20offers%20standard%20function%20sd(%27%20%27)%20to%20find%20the%20standard,through%20indexing%20as%20shown%20above."
   ]
  }
 ],
 "metadata": {
  "kernelspec": {
   "display_name": "R",
   "language": "R",
   "name": "ir"
  },
  "language_info": {
   "codemirror_mode": "r",
   "file_extension": ".r",
   "mimetype": "text/x-r-source",
   "name": "R",
   "pygments_lexer": "r",
   "version": "4.1.3"
  }
 },
 "nbformat": 4,
 "nbformat_minor": 5
}
