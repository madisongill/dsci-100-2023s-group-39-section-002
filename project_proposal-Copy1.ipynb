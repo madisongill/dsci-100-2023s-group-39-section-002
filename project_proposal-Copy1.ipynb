{
 "cells": [
  {
   "cell_type": "markdown",
   "id": "b1d8f580-c88a-4a47-ba0c-18625459baa3",
   "metadata": {},
   "source": [
    "# Project Proposal: Exploring Pulsar Star Data"
   ]
  },
  {
   "cell_type": "markdown",
   "id": "3bc307e8-5651-448f-887e-6820ddb8168e",
   "metadata": {},
   "source": [
    "##### Madison Gill, Katie Le, Brooke MacLeod, Nandini Soni"
   ]
  },
  {
   "cell_type": "markdown",
   "id": "0345100a-ce60-414b-a8e1-6bac65dbf896",
   "metadata": {},
   "source": [
    "## Introduction\n"
   ]
  },
  {
   "cell_type": "markdown",
   "id": "2463f0e3-aae3-4439-b667-dfd881540f67",
   "metadata": {},
   "source": [
    "#### Background\n",
    "    \n",
    "<p>Pulsar stars are a type of Neutron star that produce radio emission detectable on Earth, and used as probes of space-time, the interstellar medium, and states of matter<sup>1</sup>.</p> They are used to test parts of the theory of relativity, and their light emissions contain information about the physics of Neutron stars<sup>2</sup>.</p>\n",
    "    \n"
   ]
  },
  {
   "cell_type": "markdown",
   "id": "d1096b30-3c6e-4388-9df4-4b27a7ea5dd8",
   "metadata": {},
   "source": [
    "#### Research Question\n",
    "    \n",
    "---\n",
    "<p style=\"text-align: center;\"><b>How accurately can the Integrated Pulse Profile determine if a star is pulsar or non-pulsar?<b> </p>\n",
    "\n",
    "---\n",
    "    \n"
   ]
  },
  {
   "cell_type": "markdown",
   "id": "f3fba617-b5c4-4b40-b966-28825804967c",
   "metadata": {},
   "source": [
    "#### About The Dataset\n",
    "\n",
    "To answer the research question, the Pulsar Dataset [HTRU2](https://www.kaggle.com/datasets/charitarth/pulsar-dataset-htru2) will be used with data collected through the High Time Resolution Universe Survey.  \n",
    "\n",
    "<p>The dataset uses the mean, standard deviation, excess kurtosis, and skewness of the stars’ IPP and DM-SNR curves.</p>\n",
    "    \n",
    "><u>DM-SNR curves:</u>\n",
    ">Measure the radio waves released by pulsar stars once they reach Earth and have already traveled long distances in space surrounded by free electrons<sup>3</sup>.\n",
    "\n",
    "><u>Integrated Pulse Profile</u>: \n",
    ">Fingerprint of the pulsar. Averaging over thousands of rotations makes the profiles stable<sup>3</sup>.\n",
    "\n",
    "><u> Excess Kurtosis</u>:\n",
    ">Distribution of event outcomes have many outliers leading to fat tails on the bell-shaped distribution curve<sup>4</sup>. \n",
    "   "
   ]
  },
  {
   "cell_type": "markdown",
   "id": "737e7a94-ec4a-4b52-b67b-731e4b1e4aa3",
   "metadata": {},
   "source": [
    "## Data Analysis"
   ]
  },
  {
   "cell_type": "code",
   "execution_count": 1,
   "id": "0ddcccb9-53d5-400c-881a-07eec5a2ebc0",
   "metadata": {},
   "outputs": [
    {
     "ename": "ERROR",
     "evalue": "Error in library(tidyverse): there is no package called ‘tidyverse’\n",
     "output_type": "error",
     "traceback": [
      "Error in library(tidyverse): there is no package called ‘tidyverse’\nTraceback:\n",
      "1. library(tidyverse)"
     ]
    }
   ],
   "source": [
    "#1. Download libraries\n",
    "\n",
    "library(tidyverse)\n",
    "library(repr)\n",
    "library(tidymodels)\n",
    "library(infer)\n",
    "set.seed(1)"
   ]
  },
  {
   "cell_type": "code",
   "execution_count": null,
   "id": "598fae04-f02a-445b-9c34-71b3fa88a3c6",
   "metadata": {},
   "outputs": [],
   "source": [
    "#2.Read in data Pulsar Star Data\n",
    "\n",
    "pulsar_star_data<-read_csv(\"https://raw.githubusercontent.com/madisongill/dsci-100-2023s-group-39-section-002/main/HTRU_2.csv\",col_names=FALSE)"
   ]
  },
  {
   "cell_type": "code",
   "execution_count": null,
   "id": "8b27aed7-75db-4fe7-9483-d6d6c4f5cd36",
   "metadata": {},
   "outputs": [],
   "source": [
    "#3. Tidy data (add column names,condense if needed)\n",
    "\n",
    "pulsar <- pulsar_star_data|>\n",
    "rename(mean=X1,\n",
    "       std_dev=X2,\n",
    "       kurt=X3,\n",
    "       skew=X4,\n",
    "       mean_dmsnr=X5,\n",
    "       std_dev_dmsnr=X6,\n",
    "       kurt_dmsnr=X7,\n",
    "       skew_dmsnr=X8,\n",
    "       class=X9) |>\n",
    "mutate(class = as_factor(class))  "
   ]
  },
  {
   "cell_type": "markdown",
   "id": "144bf1a9-d5d5-41f4-9cb7-9ab775870951",
   "metadata": {},
   "source": [
    "<p>The Class variable has been converted to a factor because the corresponding observations are binary: pulsar or non-pulsar.</p>"
   ]
  },
  {
   "cell_type": "code",
   "execution_count": null,
   "id": "6b71a0ff-a866-400d-aa55-beaa7a4df086",
   "metadata": {},
   "outputs": [],
   "source": [
    "#4.Split data into training and test set\n",
    "\n",
    "pulsar_split<-initial_split(pulsar,prop=0.75,strata=class)\n",
    "pulsar_train<-training(pulsar_split)\n",
    "pulsar_test<-testing(pulsar_split)\n",
    "\n",
    "#demonstrate data was split\n",
    "train<-nrow(pulsar_train)\n",
    "\n",
    "split<-nrow(pulsar)\n",
    "\n",
    "percentage_train_data<-train/split*100\n",
    "\n",
    "test<-nrow(pulsar_test)\n",
    "\n",
    "percentage_test_data<-test/split*100"
   ]
  },
  {
   "cell_type": "markdown",
   "id": "47dccea5-db1e-4d80-bd22-b0a63dbf9297",
   "metadata": {},
   "source": [
    "#### Summary"
   ]
  },
  {
   "cell_type": "markdown",
   "id": "0627fa35-679c-4a8f-8199-09880e103172",
   "metadata": {},
   "source": [
    "The next code cell reduces the columns and summarizes their values. The count and proportion of each Class, average and standard deviation of each variable, and a count of missing values are shown."
   ]
  },
  {
   "cell_type": "code",
   "execution_count": null,
   "id": "bb701acc-8de7-4e65-b7b0-0b1c2f4b6435",
   "metadata": {},
   "outputs": [],
   "source": [
    "reduced_train <- pulsar_train |>\n",
    "    select(-(mean_dmsnr:skew_dmsnr)) #selecting for only integrated profile values\n",
    "\n",
    "reduced_test <- pulsar_test |>\n",
    "    select(-(mean_dmsnr:skew_dmsnr)) \n",
    "\n",
    "number_obs<-nrow(reduced_train)\n",
    "\n",
    "class_count <- reduced_train |> #summarize counts of class labels\n",
    "    group_by(class) |>\n",
    "    summarize(count = n(),\n",
    "            percent_of_train=n()/number_obs*100) #percentage of pulsar vs non pulsar\n",
    "\n",
    "summary_train <- reduced_train |> #the average of all the predictor variables\n",
    "    select(-class) |>\n",
    "    map_df(mean) |>\n",
    "    rename(mean_avg = mean,\n",
    "           std_dev_avg = std_dev, \n",
    "           kurt_avg = kurt,\n",
    "           skew_avg = skew)\n",
    "\n",
    "means_and_counts<- as_tibble(sum(is.na(reduced_train))) |> #checking for na values\n",
    "    rename(missing_vals = value) |>\n",
    "    bind_cols(summary_train)  #combine summary_train and missing values check into one\n",
    "\n",
    "standard_dev <- reduced_train |> #the standard deviation of all predictor variables, #found the sd function (5)\n",
    "                    mutate(mean_sd = sd(mean),\n",
    "                       std_dev_sd = sd(std_dev),\n",
    "                       kurt_sd = sd(kurt),\n",
    "                       skew_sd = sd(skew))|>\n",
    "                    slice(1)|>\n",
    "                    select(mean_sd,std_dev_sd,kurt_sd,skew_sd)\n",
    "\n",
    "\n",
    "prop_plot <- class_count |> #bar graph to show proportions of classes (visual comparison)\n",
    "    ggplot(aes(x = class, y = count, fill = class)) +\n",
    "    geom_bar(stat = \"identity\") +\n",
    "    labs(x = \"Class\", y = \"Count\", fill = \"Class\") +\n",
    "    ggtitle(\"Counts of Non Pulsar and Pulsar Stars\")+\n",
    "    theme(text = element_text(size = 20))\n",
    "    \n",
    "\n",
    "means_and_counts\n",
    "standard_dev\n",
    "class_count\n",
    "prop_plot"
   ]
  },
  {
   "cell_type": "markdown",
   "id": "3f59e60b-e698-44e7-8b42-c78a29fe7082",
   "metadata": {},
   "source": [
    "#### Class Imbalance"
   ]
  },
  {
   "cell_type": "markdown",
   "id": "6bf683d5-8270-4598-812f-045215dc1319",
   "metadata": {},
   "source": [
    "To fix the class imbalance using the rep_sample_n function from the infer library reduced the count of non pulsar stars to equal the amount of pulsar stars"
   ]
  },
  {
   "cell_type": "code",
   "execution_count": null,
   "id": "bbb00d17-a73a-4a41-96ac-2f81da3d6980",
   "metadata": {},
   "outputs": [],
   "source": [
    "class_count_balanced<-class_count|>\n",
    "                    select(count)|>\n",
    "                    filter(count==\"0\")|>\n",
    "                    rep_sample_n(size=1212)\n",
    "class_count_balanced\n",
    "                    "
   ]
  },
  {
   "cell_type": "markdown",
   "id": "0a60d51c-0bcb-4a72-9151-372f3a3cb463",
   "metadata": {},
   "source": [
    "#### Visualization"
   ]
  },
  {
   "cell_type": "markdown",
   "id": "e1a66e63-eaaa-4ff9-9139-d1807fa7604b",
   "metadata": {},
   "source": [
    "The plot is an example of using the variables to determine Class. From the IPP variables, a relationship can be seen between the excess kurtosis and mean. It appears to be a strong, negative, non-linear relationship."
   ]
  },
  {
   "cell_type": "code",
   "execution_count": null,
   "id": "8c4c9f4f-4ccf-4d1f-9ef7-ed5cc93e1bd9",
   "metadata": {},
   "outputs": [],
   "source": [
    "options(repr.plot.width = 10, repr.plot.height = 10)\n",
    "\n",
    "pulsar_star_graph <- pulsar_train |>\n",
    "ggplot(aes(x = mean, y = kurt, color = class)) +\n",
    "geom_point(alpha = 0.4) +\n",
    "\n",
    "labs(x = \"Mean of the Integrated Profile\", y = \"Excess kurtosis of \\nthe Integrated Profile\", color = \"Class\") +\n",
    "scale_color_manual(labels = c(\"Non-pulsar\", \"Pulsar\"),\n",
    "                   values = c(\"orange\", \"steel blue\")) +\n",
    "ggtitle(\"Determining Class from Mean and Excess\\n Kurtosis of Integrated Profile\")+\n",
    "theme(plot.title = element_text(hjust = 0.5))+\n",
    "theme(text = element_text(size = 20))\n",
    "\n",
    "pulsar_star_graph"
   ]
  },
  {
   "cell_type": "markdown",
   "id": "5951fa33-ac6f-4d5e-bb73-9350151a23da",
   "metadata": {},
   "source": [
    "\n",
    "\n",
    "\n",
    "\n",
    "    \n"
   ]
  },
  {
   "cell_type": "markdown",
   "id": "932889a1-254b-4eb1-bfe9-646777608c49",
   "metadata": {},
   "source": [
    "## Methods"
   ]
  },
  {
   "cell_type": "markdown",
   "id": "94587be7-01a2-49bb-91f1-05693967a173",
   "metadata": {},
   "source": [
    "The Class will be determined using four variables. Since the IPP alone can determine whether a star is pulsar or non-pulsar, columns related to the DM-SNR curve will be excluded through selecting the mean, standard deviation, kurtosis, and skewness of the IPP.\n",
    "\n",
    "To ensure the model can be tested, the dataset will first be split into a training and testing set. The variables will be scaled, class imbalance will be fixed. A classification model, using cross-validation, will be created using $k$ nearest neighbors to predict the star type.\n",
    "\n",
    "The results will be visualized by plotting estimated accuracy against neighbors to show the ideal $k$ value to use. A bar graph containing true positives, false positives, true negatives, and false negatives will be added to highlight the accuracy of the model."
   ]
  },
  {
   "cell_type": "markdown",
   "id": "fadceca6-e41d-4922-b9b5-8ad664f7742d",
   "metadata": {},
   "source": [
    "## Significance"
   ]
  },
  {
   "cell_type": "markdown",
   "id": "31bf0bd2-e2b6-47fb-bdb0-9a8014994eb9",
   "metadata": {},
   "source": [
    "<p>The expected outcome is a highly accurate model which predicts the stars’ type. Each IPP of a star is unique, acting as a fingerprint, so the model can determine the star type while trained solely on the IPP variables.\n",
    "If the model is successful, then only the IPP variables are important in identifying the stars, rather than the DM-SNR curve. This analysis can help with answering future questions such as:</p> \n",
    "\n",
    "<p style=\"text-align: center;\"><b>Which factors are effective predictors of star type?<b> </p>\n",
    "<p style=\"text-align: center;\"><b>Is this relationship between predictor variables applicable to other space phenomena?<b> </p>\n",
    "<p style=\"text-align: center;\"><b>Would using DM-SNR variables improve the model’s accuracy?<b> </p>\n",
    "    \n",
    "\n",
    "\n"
   ]
  },
  {
   "cell_type": "markdown",
   "id": "4d0069c8-c290-4437-9c79-439d987438a3",
   "metadata": {},
   "source": [
    "## References"
   ]
  },
  {
   "cell_type": "markdown",
   "id": "8baea232-3c05-4e7e-890d-90b663cf32b5",
   "metadata": {},
   "source": [
    "1.https://archive.ics.uci.edu/dataset/372/htru2\n",
    "\n",
    "2.https://www.space.com/32661-pulsars.html#:~:text=Pulsars%20have%20been%20used%20to,first%20time%20in%20February%202016\n",
    "\n",
    "\n",
    "3.https://www.kaggle.com/datasets/charitarth/pulsar-dataset-htru2\n",
    "\n",
    "4.https://www.investopedia.com/terms/e/excesskurtosis.asp#:~:text=Excess%20kurtosis%20means%20the%20distribution,by%20subtracting%20kurtosis%20by%20three.\n",
    "\n",
    "5.https://www.digitalocean.com/community/tutorials/find-standard-deviation-in-r#:~:text=R%20is%20easy.-,R%20offers%20standard%20function%20sd(%27%20%27)%20to%20find%20the%20standard,through%20indexing%20as%20shown%20above."
   ]
  }
 ],
 "metadata": {
  "kernelspec": {
   "display_name": "R",
   "language": "R",
   "name": "ir"
  },
  "language_info": {
   "codemirror_mode": "r",
   "file_extension": ".r",
   "mimetype": "text/x-r-source",
   "name": "R",
   "pygments_lexer": "r",
   "version": "4.1.3"
  }
 },
 "nbformat": 4,
 "nbformat_minor": 5
}
